{
 "cells": [
  {
   "cell_type": "code",
   "execution_count": 47,
   "metadata": {
    "collapsed": false
   },
   "outputs": [],
   "source": [
    "import numpy as nu\n",
    "import matplotlib.pyplot as plt\n",
    "from galpy.potential import SCFPotential, HernquistPotential,NFWPotential, compute_coeffs_spherical,compute_coeffs_axi\n",
    "from galpy.potential import LogarithmicHaloPotential,FlattenedPowerPotential\n",
    "from IPython.display import display, Math, Latex\n",
    "from galpy.util.bovy_coords import cyl_to_spher, spher_to_cyl\n",
    "%matplotlib inline  \n"
   ]
  },
  {
   "cell_type": "markdown",
   "metadata": {},
   "source": [
    "#SCFPotential"
   ]
  },
  {
   "cell_type": "markdown",
   "metadata": {},
   "source": [
    "## Examples"
   ]
  },
  {
   "cell_type": "markdown",
   "metadata": {},
   "source": [
    "### Spherical density "
   ]
  },
  {
   "cell_type": "markdown",
   "metadata": {},
   "source": [
    "Consider $\\rho (r) = \\frac{1}{2\\pi} \\frac{1}{r (1 + r)^3}$\n",
    "\n",
    "We get $A_{nlm} = \\delta_{n0}\\delta_{l0}\\delta_{m0}$"
   ]
  },
  {
   "cell_type": "code",
   "execution_count": 48,
   "metadata": {
    "collapsed": false
   },
   "outputs": [],
   "source": [
    "def rho_Spherical(R, z=0, phi=0., a=1.):\n",
    "    r, theta, phi = cyl_to_spher(R,z, phi)\n",
    "    return (2*nu.pi)**-1 * nu.power((r/a)*(a + r)**3 ,-1)"
   ]
  },
  {
   "cell_type": "code",
   "execution_count": 49,
   "metadata": {
    "collapsed": false
   },
   "outputs": [],
   "source": [
    "Acos, Asin = compute_coeffs_spherical(rho_Spherical,2, 1.)"
   ]
  },
  {
   "cell_type": "markdown",
   "metadata": {},
   "source": [
    "Creating the SCFPotential object"
   ]
  },
  {
   "cell_type": "code",
   "execution_count": 50,
   "metadata": {
    "collapsed": false
   },
   "outputs": [],
   "source": [
    "scf = SCFPotential(1., Acos, Asin, 1.)"
   ]
  },
  {
   "cell_type": "code",
   "execution_count": 51,
   "metadata": {
    "collapsed": true
   },
   "outputs": [],
   "source": [
    "def calculateSCFDensity(scf, R, Z=0., phi=0.):\n",
    "    density = nu.zeros(len(R), float)\n",
    "    if type(Z) == float: Z = nu.ones((len(R)), float)*Z\n",
    "    for i in range(len(R)):\n",
    "        density[i] = scf.dens(R[i],Z[i])\n",
    "    return density"
   ]
  },
  {
   "cell_type": "code",
   "execution_count": 52,
   "metadata": {
    "collapsed": false
   },
   "outputs": [],
   "source": [
    "R = nu.linspace(0.001, .1, 1000)\n",
    "density = calculateSCFDensity(scf, R)\n",
    "densityAnalytic = rho_Spherical(R, a=1.)"
   ]
  },
  {
   "cell_type": "code",
   "execution_count": 53,
   "metadata": {
    "collapsed": false
   },
   "outputs": [
    {
     "data": {
      "text/plain": [
       "[<matplotlib.lines.Line2D at 0x7fadd7a47d90>]"
      ]
     },
     "execution_count": 53,
     "metadata": {},
     "output_type": "execute_result"
    },
    {
     "data": {
      "image/png": "[encoded data removed]",
      "text/plain": [
       "<matplotlib.figure.Figure at 0x7fadd6c1cad0>"
      ]
     },
     "metadata": {},
     "output_type": "display_data"
    }
   ],
   "source": [
    "plt.plot(R, density)\n",
    "plt.plot(R, densityAnalytic)"
   ]
  },
  {
   "cell_type": "markdown",
   "metadata": {},
   "source": [
    "We confirm that our numerical density matches with our analytic density"
   ]
  },
  {
   "cell_type": "markdown",
   "metadata": {},
   "source": [
    "#### Comparing to Hernquist potential"
   ]
  },
  {
   "cell_type": "code",
   "execution_count": 54,
   "metadata": {
    "collapsed": false
   },
   "outputs": [
    {
     "data": {
      "text/plain": [
       "[<matplotlib.lines.Line2D at 0x7fadd713f090>]"
      ]
     },
     "execution_count": 54,
     "metadata": {},
     "output_type": "execute_result"
    },
    {
     "data": {
      "image/png": "[encoded data removed]",
      "text/plain": [
       "<matplotlib.figure.Figure at 0x7fadd7402650>"
      ]
     },
     "metadata": {},
     "output_type": "display_data"
    }
   ],
   "source": [
    "h = HernquistPotential(2., 1.) ## Equation (2.1) and the implemented Hernquist amplitude has a factor 2 difference\n",
    "z = nu.zeros(len(R))\n",
    "hDensity = h.dens(R,z)\n",
    "plt.plot(R, density)\n",
    "plt.plot(R, hDensity)"
   ]
  },
  {
   "cell_type": "markdown",
   "metadata": {},
   "source": [
    "Confirmed that the implemented SCF potential matches with the already implemented Hernquist potential.\n",
    "\n",
    "The only note is amp=2. "
   ]
  },
  {
   "cell_type": "markdown",
   "metadata": {},
   "source": [
    "### Zeeuw's perfect ellipsoid"
   ]
  },
  {
   "cell_type": "markdown",
   "metadata": {},
   "source": [
    "Consider $\\rho (r) = \\frac{3}{4\\pi} \\frac{1}{(1 + r)^4}$\n",
    "\n",
    "We get $A_{nlm} = \\frac{3}{4}\\delta_{n0}\\delta_{l0}\\delta_{m0} + \\frac{1}{12}\\delta_{n1}\\delta_{l0}\\delta_{m0}$"
   ]
  },
  {
   "cell_type": "code",
   "execution_count": 55,
   "metadata": {
    "collapsed": false
   },
   "outputs": [],
   "source": [
    "def rho_Zeeuw(R, z=0., phi=0., a=1.):\n",
    "    r, theta, phi = cyl_to_spher(R,z, phi)\n",
    "    return 3./(4*nu.pi) * nu.power((a + r),-4.) * a"
   ]
  },
  {
   "cell_type": "code",
   "execution_count": 56,
   "metadata": {
    "collapsed": false
   },
   "outputs": [],
   "source": [
    "Acos, Asin = compute_coeffs_spherical(rho_Zeeuw, 2) \n",
    "scf = SCFPotential(1., Acos, Asin, 1)"
   ]
  },
  {
   "cell_type": "code",
   "execution_count": 57,
   "metadata": {
    "collapsed": false
   },
   "outputs": [],
   "source": [
    "density = calculateSCFDensity(scf, R)\n",
    "densityAnalytic = rho_Zeeuw(R)\n"
   ]
  },
  {
   "cell_type": "code",
   "execution_count": 58,
   "metadata": {
    "collapsed": false,
    "scrolled": true
   },
   "outputs": [
    {
     "data": {
      "text/plain": [
       "[<matplotlib.lines.Line2D at 0x7fadd704d910>]"
      ]
     },
     "execution_count": 58,
     "metadata": {},
     "output_type": "execute_result"
    },
    {
     "data": {
      "image/png": "[encoded data removed]",
      "text/plain": [
       "<matplotlib.figure.Figure at 0x7fadd67fba10>"
      ]
     },
     "metadata": {},
     "output_type": "display_data"
    }
   ],
   "source": [
    "plt.plot(R, density)\n",
    "plt.plot(R, densityAnalytic)"
   ]
  },
  {
   "cell_type": "markdown",
   "metadata": {
    "collapsed": true
   },
   "source": [
    "### NFW potential"
   ]
  },
  {
   "cell_type": "markdown",
   "metadata": {
    "collapsed": true
   },
   "source": [
    "Consider $\\rho (r) = \\frac{1}{4\\pi} \\frac{1}{r (1 + r)^2}$"
   ]
  },
  {
   "cell_type": "code",
   "execution_count": 59,
   "metadata": {
    "collapsed": true
   },
   "outputs": [],
   "source": [
    "a_NFW= 1.\n",
    "a_SCF= [1., 4, 10., 30.]\n",
    "\n",
    "def rho_NFW(R, z=0, phi=0.):\n",
    "    return nfw.dens(R,0)"
   ]
  },
  {
   "cell_type": "code",
   "execution_count": 60,
   "metadata": {
    "collapsed": true
   },
   "outputs": [],
   "source": [
    "nfw = NFWPotential(amp=1.,a=a_NFW)\n",
    "nfwDensity = rho_NFW(R,0)"
   ]
  },
  {
   "cell_type": "code",
   "execution_count": 61,
   "metadata": {
    "collapsed": false
   },
   "outputs": [],
   "source": [
    "def plotDensityVaryinga(dens, N, aparem):\n",
    "    density = nu.zeros((len(aparem), len(R)), float)\n",
    "    plt.title(\"NFW Density with N={}\".format(N))\n",
    "    for i in range(len(aparem)):\n",
    "        a = aparem[i]\n",
    "        Acos, Asin = compute_coeffs_spherical(dens,N,a=a)\n",
    "        scf = SCFPotential(1., Acos, Asin,a=a)\n",
    "        density[i] = calculateSCFDensity(scf,R)\n",
    "        \n",
    "        plt.plot(R, density[i], label=\"a={0}\".format(a))\n",
    "    plt.plot(R, dens(R), label=\"NFW Density\")\n",
    "    plt.legend()\n",
    "    plt.ylim(-20,100)\n",
    "    return density\n"
   ]
  },
  {
   "cell_type": "code",
   "execution_count": 62,
   "metadata": {
    "collapsed": false
   },
   "outputs": [
    {
     "data": {
      "image/png": "[encoded data removed]",
      "text/plain": [
       "<matplotlib.figure.Figure at 0x7fadd67222d0>"
      ]
     },
     "metadata": {},
     "output_type": "display_data"
    }
   ],
   "source": [
    "density = plotDensityVaryinga(rho_NFW, 1, a_SCF)"
   ]
  },
  {
   "cell_type": "markdown",
   "metadata": {},
   "source": [
    "As we can see, the function does not match well enough for N=1.\n",
    "\n",
    "Let's try increasing the size of the coefficients "
   ]
  },
  {
   "cell_type": "code",
   "execution_count": 63,
   "metadata": {
    "collapsed": false
   },
   "outputs": [
    {
     "data": {
      "image/png": "[encoded data removed]",
      "text/plain": [
       "<matplotlib.figure.Figure at 0x7fadd7126610>"
      ]
     },
     "metadata": {},
     "output_type": "display_data"
    }
   ],
   "source": [
    "density = plotDensityVaryinga(rho_NFW, 4, a_SCF)"
   ]
  },
  {
   "cell_type": "markdown",
   "metadata": {},
   "source": [
    "a = 1 is now the worst match. Other than that, the other paremater choices got better. If I were to judge, it looks like a=4 is the best choice for N=4. Let's ommit a=1 from now on."
   ]
  },
  {
   "cell_type": "code",
   "execution_count": 64,
   "metadata": {
    "collapsed": false
   },
   "outputs": [
    {
     "data": {
      "image/png": "[encoded data removed]",
      "text/plain": [
       "<matplotlib.figure.Figure at 0x7fadd65f6110>"
      ]
     },
     "metadata": {},
     "output_type": "display_data"
    }
   ],
   "source": [
    "density = plotDensityVaryinga(rho_NFW, 10, a_SCF[1:])"
   ]
  },
  {
   "cell_type": "markdown",
   "metadata": {},
   "source": [
    "a=4 is now the worse choice. It looks like a=10 is the best choice for N=10"
   ]
  },
  {
   "cell_type": "code",
   "execution_count": 65,
   "metadata": {
    "collapsed": false
   },
   "outputs": [
    {
     "data": {
      "image/png": "[encoded data removed]",
      "text/plain": [
       "<matplotlib.figure.Figure at 0x7fadd64bbbd0>"
      ]
     },
     "metadata": {},
     "output_type": "display_data"
    }
   ],
   "source": [
    "density = plotDensityVaryinga(rho_NFW, 30, a_SCF[1:])"
   ]
  },
  {
   "cell_type": "markdown",
   "metadata": {},
   "source": [
    "a=4 is now doing terrible. It looks like a=30. is the best choice for N=30."
   ]
  },
  {
   "cell_type": "markdown",
   "metadata": {
    "collapsed": true
   },
   "source": [
    "### Axisymmetric density"
   ]
  },
  {
   "cell_type": "markdown",
   "metadata": {
    "collapsed": true
   },
   "source": [
    "We'll check if compute_coeffs_axi reduces to compute_coeffs_spherical for a spherical function, as we expect it to.\n",
    "\n",
    "First, some useful functions that is unique to spherical densities"
   ]
  },
  {
   "cell_type": "code",
   "execution_count": 97,
   "metadata": {
    "collapsed": true
   },
   "outputs": [],
   "source": [
    "epi = 1e-14\n",
    "\n",
    "##Testing the coeffecients\n",
    "def test_Acosn(As, Aa):\n",
    "    return nu.all(nu.fabs(As[0] - Aa[0][:,:1,:1]) < epi)\n",
    "def test_Acos_nbiggerthan0(Aa):\n",
    "    return nu.all(nu.fabs(Aa[0][:,1:,1:]) <epi)\n",
    "def test_Asin_allZero(As, Aa):\n",
    "    return nu.all(nu.fabs(As[1]) < epi) and nu.all(nu.fabs(Aa[1]) < epi)\n",
    "\n",
    "def test_all(As,Aa):\n",
    "    return test_Acosn(As,Aa) and test_Acos_nbiggerthan0(Aa) and test_Asin_allZero(As,Aa)\n",
    "\n"
   ]
  },
  {
   "cell_type": "markdown",
   "metadata": {},
   "source": [
    "rho_Spherical"
   ]
  },
  {
   "cell_type": "code",
   "execution_count": 102,
   "metadata": {
    "collapsed": false
   },
   "outputs": [
    {
     "name": "stdout",
     "output_type": "stream",
     "text": [
      "True\n",
      "[[[  1.00000000e+00]]\n",
      "\n",
      " [[ -5.02087446e-18]]\n",
      "\n",
      " [[  4.23872908e-18]]\n",
      "\n",
      " [[ -4.27582349e-18]]\n",
      "\n",
      " [[ -2.86416979e-18]]]\n",
      "[[[  1.00000000e+00   0.00000000e+00   0.00000000e+00   0.00000000e+00\n",
      "     0.00000000e+00]\n",
      "  [ -5.39491093e-16   0.00000000e+00   0.00000000e+00   0.00000000e+00\n",
      "     0.00000000e+00]\n",
      "  [  7.37902433e-01   0.00000000e+00   0.00000000e+00   0.00000000e+00\n",
      "     0.00000000e+00]\n",
      "  [ -2.77662415e-15   0.00000000e+00   0.00000000e+00   0.00000000e+00\n",
      "     0.00000000e+00]\n",
      "  [  3.12425595e+00   0.00000000e+00   0.00000000e+00   0.00000000e+00\n",
      "     0.00000000e+00]]\n",
      "\n",
      " [[ -5.17054971e-18   0.00000000e+00   0.00000000e+00   0.00000000e+00\n",
      "     0.00000000e+00]\n",
      "  [ -1.18395154e-33   0.00000000e+00   0.00000000e+00   0.00000000e+00\n",
      "     0.00000000e+00]\n",
      "  [  2.38597741e-18   0.00000000e+00   0.00000000e+00   0.00000000e+00\n",
      "     0.00000000e+00]\n",
      "  [ -2.65446170e-32   0.00000000e+00   0.00000000e+00   0.00000000e+00\n",
      "     0.00000000e+00]\n",
      "  [  6.71225863e-17   0.00000000e+00   0.00000000e+00   0.00000000e+00\n",
      "     0.00000000e+00]]\n",
      "\n",
      " [[  6.39733733e-18   0.00000000e+00   0.00000000e+00   0.00000000e+00\n",
      "     0.00000000e+00]\n",
      "  [ -1.21110245e-17   0.00000000e+00   0.00000000e+00   0.00000000e+00\n",
      "     0.00000000e+00]\n",
      "  [  1.99648927e-02   0.00000000e+00   0.00000000e+00   0.00000000e+00\n",
      "     0.00000000e+00]\n",
      "  [ -7.46042449e-17   0.00000000e+00   0.00000000e+00   0.00000000e+00\n",
      "     0.00000000e+00]\n",
      "  [  7.93425325e-02   0.00000000e+00   0.00000000e+00   0.00000000e+00\n",
      "     0.00000000e+00]]\n",
      "\n",
      " [[ -3.86849376e-18   0.00000000e+00   0.00000000e+00   0.00000000e+00\n",
      "     0.00000000e+00]\n",
      "  [  7.96340081e-33   0.00000000e+00   0.00000000e+00   0.00000000e+00\n",
      "     0.00000000e+00]\n",
      "  [  4.51099405e-18   0.00000000e+00   0.00000000e+00   0.00000000e+00\n",
      "     0.00000000e+00]\n",
      "  [  1.16995373e-34   0.00000000e+00   0.00000000e+00   0.00000000e+00\n",
      "     0.00000000e+00]\n",
      "  [ -2.50630229e-17   0.00000000e+00   0.00000000e+00   0.00000000e+00\n",
      "     0.00000000e+00]]\n",
      "\n",
      " [[ -2.64879457e-18   0.00000000e+00   0.00000000e+00   0.00000000e+00\n",
      "     0.00000000e+00]\n",
      "  [ -1.17964525e-18   0.00000000e+00   0.00000000e+00   0.00000000e+00\n",
      "     0.00000000e+00]\n",
      "  [  1.83919011e-03   0.00000000e+00   0.00000000e+00   0.00000000e+00\n",
      "     0.00000000e+00]\n",
      "  [ -6.31541271e-18   0.00000000e+00   0.00000000e+00   0.00000000e+00\n",
      "     0.00000000e+00]\n",
      "  [  6.14118025e-03   0.00000000e+00   0.00000000e+00   0.00000000e+00\n",
      "     0.00000000e+00]]]\n"
     ]
    }
   ],
   "source": [
    "Aspherical = compute_coeffs_spherical(rho_Spherical,5)\n",
    "Aaxi = compute_coeffs_axi(rho_Spherical, 5, 5)\n",
    "print test_all(Aspherical,Aaxi)\n",
    "print Aspherical[0]\n",
    "print Aaxi[0]"
   ]
  },
  {
   "cell_type": "markdown",
   "metadata": {},
   "source": [
    "Zeeuw's perfect ellipsoid"
   ]
  },
  {
   "cell_type": "code",
   "execution_count": 68,
   "metadata": {
    "collapsed": false
   },
   "outputs": [
    {
     "name": "stdout",
     "output_type": "stream",
     "text": [
      "True\n"
     ]
    }
   ],
   "source": [
    "Aspherical = compute_coeffs_spherical(rho_Zeeuw,10)\n",
    "Aaxi = compute_coeffs_axi(rho_Zeeuw, 10, 10)\n",
    "print test_all(Aspherical,Aaxi)"
   ]
  },
  {
   "cell_type": "markdown",
   "metadata": {},
   "source": [
    "###Testing with an axi symmetric density"
   ]
  },
  {
   "cell_type": "code",
   "execution_count": 69,
   "metadata": {
    "collapsed": true
   },
   "outputs": [],
   "source": [
    "eps = 0\n",
    "def axi_density1(R, z=0, phi=0.):\n",
    "    spherical_coords = cyl_to_spher(R,z, phi)\n",
    "    theta = spherical_coords[1]\n",
    "    h = HernquistPotential(2)\n",
    "    return h.dens(R, z, phi)*(1 + eps*nu.cos(theta)**2)"
   ]
  },
  {
   "cell_type": "code",
   "execution_count": 92,
   "metadata": {
    "collapsed": false
   },
   "outputs": [
    {
     "name": "stdout",
     "output_type": "stream",
     "text": [
      "True\n"
     ]
    }
   ],
   "source": [
    "A = compute_coeffs_axi(axi_density1, 5,5)\n",
    "A2 = compute_coeffs_spherical(axi_density1, 5)\n",
    "print test_all(A2, A)\n",
    "scf = SCFPotential(1., A[0], A[1])"
   ]
  },
  {
   "cell_type": "code",
   "execution_count": 85,
   "metadata": {
    "collapsed": false
   },
   "outputs": [
    {
     "data": {
      "text/plain": [
       "[<matplotlib.lines.Line2D at 0x7fadd61ed210>]"
      ]
     },
     "execution_count": 85,
     "metadata": {},
     "output_type": "execute_result"
    },
    {
     "data": {
      "image/png": "[encoded data removed]",
      "text/plain": [
       "<matplotlib.figure.Figure at 0x7fadd6296050>"
      ]
     },
     "metadata": {},
     "output_type": "display_data"
    }
   ],
   "source": [
    "R = nu.linspace(10.,100,1000)\n",
    "plt.plot(R, calculateSCFDensity(scf, R,0., 0))\n",
    "plt.plot(R, axi_density1(R, 0., 0))"
   ]
  },
  {
   "cell_type": "markdown",
   "metadata": {},
   "source": [
    "Unfortunatly, compute_coeffs_axi took a longer time for Flattened Power Potential"
   ]
  },
  {
   "cell_type": "code",
   "execution_count": 113,
   "metadata": {
    "collapsed": false
   },
   "outputs": [
    {
     "name": "stdout",
     "output_type": "stream",
     "text": [
      "8.31367023848\n"
     ]
    },
    {
     "data": {
      "image/png": "[encoded data removed]",
      "text/plain": [
       "<matplotlib.figure.Figure at 0x7fcbcfd27750>"
      ]
     },
     "metadata": {},
     "output_type": "display_data"
    }
   ],
   "source": [
    "R = nu.ones((1000), float)*0\n",
    "Z = nu.linspace(1.,10, 1000)\n",
    "plt.plot(Z, calculateSCFDensity(scf, R, Z))\n",
    "plt.plot(Z, fp.dens(R,Z))\n",
    "print nu.std(calculateSCFDensity(scf,R, Z)/fp.dens(R,Z))"
   ]
  },
  {
   "cell_type": "markdown",
   "metadata": {},
   "source": [
    "It looks like there might be an issue with my code :("
   ]
  },
  {
   "cell_type": "code",
   "execution_count": null,
   "metadata": {
    "collapsed": false
   },
   "outputs": [],
   "source": []
  },
  {
   "cell_type": "code",
   "execution_count": null,
   "metadata": {
    "collapsed": true
   },
   "outputs": [],
   "source": []
  }
 ],
 "metadata": {
  "kernelspec": {
   "display_name": "Python 2",
   "language": "python",
   "name": "python2"
  },
  "language_info": {
   "codemirror_mode": {
    "name": "ipython",
    "version": 2
   },
   "file_extension": ".py",
   "mimetype": "text/x-python",
   "name": "python",
   "nbconvert_exporter": "python",
   "pygments_lexer": "ipython2",
   "version": "2.7.11"
  }
 },
 "nbformat": 4,
 "nbformat_minor": 0
}
