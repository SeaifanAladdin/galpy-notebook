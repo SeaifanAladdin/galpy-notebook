{
 "cells": [
  {
   "cell_type": "code",
   "execution_count": 1,
   "metadata": {
    "collapsed": false
   },
   "outputs": [
    {
     "name": "stdout",
     "output_type": "stream",
     "text": [
      "galpyWarning: A major change in versions > 1.1 is that all galpy.potential functions and methods take the potential as the first argument; previously methods such as evaluatePotentials, evaluateDensities, etc. would be called with (R,z,Pot), now they are called as (Pot,R,z) for greater consistency across the codebase\n"
     ]
    }
   ],
   "source": [
    "import numpy as nu\n",
    "import matplotlib.pyplot as plt\n",
    "from galpy.potential import SCFPotential, HernquistPotential,NFWPotential, compute_coeffs_spherical,compute_coeffs_axi\n",
    "from IPython.display import display, Math, Latex\n",
    "%matplotlib inline  "
   ]
  },
  {
   "cell_type": "markdown",
   "metadata": {},
   "source": [
    "#SCFPotential"
   ]
  },
  {
   "cell_type": "markdown",
   "metadata": {},
   "source": [
    "## Examples"
   ]
  },
  {
   "cell_type": "markdown",
   "metadata": {},
   "source": [
    "### Spherical density "
   ]
  },
  {
   "cell_type": "markdown",
   "metadata": {},
   "source": [
    "Consider $\\rho (r) = \\frac{1}{2\\pi} \\frac{1}{r (1 + r)^3}$\n",
    "\n",
    "We get $A_{nlm} = \\delta_{n0}\\delta_{l0}\\delta_{m0}$"
   ]
  },
  {
   "cell_type": "code",
   "execution_count": 2,
   "metadata": {
    "collapsed": false
   },
   "outputs": [],
   "source": [
    "def rho_Spherical(r, a=1.):\n",
    "    return (2*nu.pi)**-1 * ((r/a)*(a + r)**3)**-1"
   ]
  },
  {
   "cell_type": "code",
   "execution_count": 3,
   "metadata": {
    "collapsed": false
   },
   "outputs": [],
   "source": [
    "Acos, Asin = compute_coeffs_spherical(rho_Spherical,2)"
   ]
  },
  {
   "cell_type": "markdown",
   "metadata": {},
   "source": [
    "Creating the SCFPotential object"
   ]
  },
  {
   "cell_type": "code",
   "execution_count": 4,
   "metadata": {
    "collapsed": false
   },
   "outputs": [],
   "source": [
    "scf = SCFPotential(1., Acos, Asin, 2.)"
   ]
  },
  {
   "cell_type": "code",
   "execution_count": 5,
   "metadata": {
    "collapsed": true
   },
   "outputs": [],
   "source": [
    "def calculateSCFDensity(r):\n",
    "    density = nu.zeros(len(r), float)\n",
    "    for i in range(len(r)):\n",
    "        density[i] = scf.dens(r[i], 0)\n",
    "    return density"
   ]
  },
  {
   "cell_type": "code",
   "execution_count": 6,
   "metadata": {
    "collapsed": false
   },
   "outputs": [],
   "source": [
    "R = nu.linspace(0.001, .1, 1000)\n",
    "density = calculateSCFDensity(R)\n",
    "densityAnalytic = rho_Spherical(R, 2.)"
   ]
  },
  {
   "cell_type": "code",
   "execution_count": 7,
   "metadata": {
    "collapsed": false
   },
   "outputs": [
    {
     "data": {
      "text/plain": [
       "[<matplotlib.lines.Line2D at 0x7fc3a31e6690>]"
      ]
     },
     "execution_count": 7,
     "metadata": {},
     "output_type": "execute_result"
    },
    {
     "data": {
      "image/png": "[encoded data removed]",
      "text/plain": [
       "<matplotlib.figure.Figure at 0x7fc3d0089c10>"
      ]
     },
     "metadata": {},
     "output_type": "display_data"
    }
   ],
   "source": [
    "plt.plot(R, density)\n",
    "plt.plot(R, densityAnalytic)"
   ]
  },
  {
   "cell_type": "markdown",
   "metadata": {},
   "source": [
    "We confirm that our numerical density matches with our analytic density"
   ]
  },
  {
   "cell_type": "markdown",
   "metadata": {},
   "source": [
    "#### Comparing to Hernquist potential"
   ]
  },
  {
   "cell_type": "code",
   "execution_count": 8,
   "metadata": {
    "collapsed": false
   },
   "outputs": [
    {
     "data": {
      "text/plain": [
       "[<matplotlib.lines.Line2D at 0x7fc3d0089c90>]"
      ]
     },
     "execution_count": 8,
     "metadata": {},
     "output_type": "execute_result"
    },
    {
     "data": {
      "image/png": "[encoded data removed]",
      "text/plain": [
       "<matplotlib.figure.Figure at 0x7fc3a3112a10>"
      ]
     },
     "metadata": {},
     "output_type": "display_data"
    }
   ],
   "source": [
    "h = HernquistPotential(2., 2.) ## Equation (2.1) and the implemented Hernquist amplitude has a factor 2 difference\n",
    "z = nu.zeros(len(R))\n",
    "hDensity = h.dens(R,z)\n",
    "plt.plot(R, density)\n",
    "plt.plot(R, hDensity)"
   ]
  },
  {
   "cell_type": "markdown",
   "metadata": {},
   "source": [
    "Confirmed that the implemented SCF potential matches with the already implemented Hernquist potential.\n",
    "\n",
    "The only note is amp=2. "
   ]
  },
  {
   "cell_type": "markdown",
   "metadata": {},
   "source": [
    "### Zeeuw's perfect ellipsoid"
   ]
  },
  {
   "cell_type": "markdown",
   "metadata": {},
   "source": [
    "Consider $\\rho (r) = \\frac{3}{4\\pi} \\frac{1}{(1 + r)^4}$\n",
    "\n",
    "We get $A_{nlm} = \\frac{3}{4}\\delta_{n0}\\delta_{l0}\\delta_{m0} + \\frac{1}{12}\\delta_{n1}\\delta_{l0}\\delta_{m0}$"
   ]
  },
  {
   "cell_type": "code",
   "execution_count": 9,
   "metadata": {
    "collapsed": true
   },
   "outputs": [],
   "source": [
    "def rho_Zeeuw(r):\n",
    "    return 3./(4*nu.pi) * (1 + r)**-4."
   ]
  },
  {
   "cell_type": "code",
   "execution_count": 10,
   "metadata": {
    "collapsed": false
   },
   "outputs": [
    {
     "ename": "TypeError",
     "evalue": "compute_coeffs_spherical() takes exactly 2 arguments (3 given)",
     "output_type": "error",
     "traceback": [
      "\u001b[1;31m---------------------------------------------------------------------------\u001b[0m",
      "\u001b[1;31mTypeError\u001b[0m                                 Traceback (most recent call last)",
      "\u001b[1;32m<ipython-input-10-0510c8f9dda5>\u001b[0m in \u001b[0;36m<module>\u001b[1;34m()\u001b[0m\n\u001b[1;32m----> 1\u001b[1;33m \u001b[0mAcos\u001b[0m\u001b[1;33m,\u001b[0m \u001b[0mAsin\u001b[0m \u001b[1;33m=\u001b[0m \u001b[0mcompute_coeffs_spherical\u001b[0m\u001b[1;33m(\u001b[0m\u001b[0mrho_Zeeuw\u001b[0m\u001b[1;33m,\u001b[0m \u001b[1;36m10\u001b[0m\u001b[1;33m,\u001b[0m\u001b[1;36m1\u001b[0m\u001b[1;33m)\u001b[0m\u001b[1;33m\u001b[0m\u001b[0m\n\u001b[0m\u001b[0;32m      2\u001b[0m \u001b[0mscf\u001b[0m \u001b[1;33m=\u001b[0m \u001b[0mSCFPotential\u001b[0m\u001b[1;33m(\u001b[0m\u001b[1;36m1.\u001b[0m\u001b[1;33m,\u001b[0m \u001b[0mAcos\u001b[0m\u001b[1;33m,\u001b[0m \u001b[0mAsin\u001b[0m\u001b[1;33m,\u001b[0m \u001b[1;36m1\u001b[0m\u001b[1;33m)\u001b[0m\u001b[1;33m\u001b[0m\u001b[0m\n",
      "\u001b[1;31mTypeError\u001b[0m: compute_coeffs_spherical() takes exactly 2 arguments (3 given)"
     ]
    }
   ],
   "source": [
    "Acos, Asin = compute_coeffs_spherical(rho_Zeeuw, 10,1) \n",
    "scf = SCFPotential(1., Acos, Asin, 1)"
   ]
  },
  {
   "cell_type": "code",
   "execution_count": null,
   "metadata": {
    "collapsed": false
   },
   "outputs": [],
   "source": [
    "density = calculateSCFDensity(R)\n",
    "densityAnalytic = rho_Zeeuw(R)\n"
   ]
  },
  {
   "cell_type": "code",
   "execution_count": null,
   "metadata": {
    "collapsed": false,
    "scrolled": true
   },
   "outputs": [],
   "source": [
    "plt.plot(R, density)\n",
    "plt.plot(R, densityAnalytic)"
   ]
  },
  {
   "cell_type": "markdown",
   "metadata": {
    "collapsed": true
   },
   "source": [
    "### NFW potential"
   ]
  },
  {
   "cell_type": "markdown",
   "metadata": {
    "collapsed": true
   },
   "source": [
    "Consider $\\rho (r) = \\frac{1}{4\\pi} \\frac{1}{r (1 + r)^2}$"
   ]
  },
  {
   "cell_type": "code",
   "execution_count": 15,
   "metadata": {
    "collapsed": true
   },
   "outputs": [],
   "source": [
    "def rho_NFW(r, a=1.):\n",
    "    return (4*nu.pi*a**3)**-1. * ((r/a)*(1. + r/a)**2)**-1."
   ]
  },
  {
   "cell_type": "code",
   "execution_count": 16,
   "metadata": {
    "collapsed": false
   },
   "outputs": [],
   "source": [
    "a = .01\n",
    "Acos, Asin = compute_coeffs_spherical(rho_NFW,1)\n",
    "scf = SCFPotential(1., Acos, Asin, a)"
   ]
  },
  {
   "cell_type": "code",
   "execution_count": 17,
   "metadata": {
    "collapsed": false
   },
   "outputs": [],
   "source": [
    "density = calculateSCFDensity(R)"
   ]
  },
  {
   "cell_type": "code",
   "execution_count": 18,
   "metadata": {
    "collapsed": true
   },
   "outputs": [],
   "source": [
    "nfw = NFWPotential(1., a)\n",
    "nfwDensity = nfw.dens(R,z)"
   ]
  },
  {
   "cell_type": "code",
   "execution_count": 19,
   "metadata": {
    "collapsed": false
   },
   "outputs": [
    {
     "data": {
      "text/plain": [
       "[<matplotlib.lines.Line2D at 0x7fc3a2f0acd0>]"
      ]
     },
     "execution_count": 19,
     "metadata": {},
     "output_type": "execute_result"
    },
    {
     "data": {
      "image/png": "[encoded data removed]",
      "text/plain": [
       "<matplotlib.figure.Figure at 0x7fc3a30f0990>"
      ]
     },
     "metadata": {},
     "output_type": "display_data"
    }
   ],
   "source": [
    "plt.plot(R, density)\n",
    "plt.plot(R, nfwDensity)\n",
    "plt.plot(R, rho_NFW(R, a))"
   ]
  },
  {
   "cell_type": "markdown",
   "metadata": {},
   "source": [
    "As we can see, the function does not match well enough. Let's try increasing the size of the coefficients "
   ]
  },
  {
   "cell_type": "code",
   "execution_count": 20,
   "metadata": {
    "collapsed": false
   },
   "outputs": [
    {
     "ename": "TypeError",
     "evalue": "compute_coeffs_spherical() takes exactly 2 arguments (3 given)",
     "output_type": "error",
     "traceback": [
      "\u001b[1;31m---------------------------------------------------------------------------\u001b[0m",
      "\u001b[1;31mTypeError\u001b[0m                                 Traceback (most recent call last)",
      "\u001b[1;32m<ipython-input-20-db5e3a01a687>\u001b[0m in \u001b[0;36m<module>\u001b[1;34m()\u001b[0m\n\u001b[1;32m----> 1\u001b[1;33m \u001b[0mAcos\u001b[0m\u001b[1;33m,\u001b[0m \u001b[0mAsin\u001b[0m \u001b[1;33m=\u001b[0m \u001b[0mcompute_coeffs_spherical\u001b[0m\u001b[1;33m(\u001b[0m\u001b[0mrho_NFW\u001b[0m\u001b[1;33m,\u001b[0m\u001b[1;36m4\u001b[0m\u001b[1;33m,\u001b[0m\u001b[1;36m1.\u001b[0m\u001b[1;33m)\u001b[0m\u001b[1;33m\u001b[0m\u001b[0m\n\u001b[0m\u001b[0;32m      2\u001b[0m \u001b[0mscf\u001b[0m \u001b[1;33m=\u001b[0m \u001b[0mSCFPotential\u001b[0m\u001b[1;33m(\u001b[0m\u001b[1;36m1.\u001b[0m\u001b[1;33m,\u001b[0m \u001b[0mAcos\u001b[0m\u001b[1;33m,\u001b[0m \u001b[0mAsin\u001b[0m\u001b[1;33m,\u001b[0m\u001b[0ma\u001b[0m\u001b[1;33m)\u001b[0m\u001b[1;33m\u001b[0m\u001b[0m\n\u001b[0;32m      3\u001b[0m \u001b[0mdensity\u001b[0m \u001b[1;33m=\u001b[0m \u001b[0mcalculateSCFDensity\u001b[0m\u001b[1;33m(\u001b[0m\u001b[0mR\u001b[0m\u001b[1;33m)\u001b[0m\u001b[1;33m\u001b[0m\u001b[0m\n",
      "\u001b[1;31mTypeError\u001b[0m: compute_coeffs_spherical() takes exactly 2 arguments (3 given)"
     ]
    }
   ],
   "source": [
    "Acos, Asin = compute_coeffs_spherical(rho_NFW,4,1.)\n",
    "scf = SCFPotential(1., Acos, Asin,a)\n",
    "density = calculateSCFDensity(R)"
   ]
  },
  {
   "cell_type": "code",
   "execution_count": null,
   "metadata": {
    "collapsed": false
   },
   "outputs": [],
   "source": [
    "plt.plot(R, density)\n",
    "plt.plot(R, nfwDensity)"
   ]
  },
  {
   "cell_type": "markdown",
   "metadata": {},
   "source": [
    "It got worse. Let's try increasing it again..."
   ]
  },
  {
   "cell_type": "code",
   "execution_count": null,
   "metadata": {
    "collapsed": true
   },
   "outputs": [],
   "source": [
    "Acos, Asin = compute_coeffs_spherical(rho_NFW,10,1.)\n",
    "scf = SCFPotential(1., Acos, Asin,a)\n",
    "density = calculateSCFDensity(R)"
   ]
  },
  {
   "cell_type": "code",
   "execution_count": null,
   "metadata": {
    "collapsed": false
   },
   "outputs": [],
   "source": [
    "plt.plot(R, density)\n",
    "plt.plot(R, nfwDensity)"
   ]
  },
  {
   "cell_type": "markdown",
   "metadata": {},
   "source": [
    "Slightly better. Let's try one more time.."
   ]
  },
  {
   "cell_type": "code",
   "execution_count": null,
   "metadata": {
    "collapsed": false
   },
   "outputs": [],
   "source": [
    "Acos, Asin = compute_coeffs_spherical(rho_NFW,100,1)\n",
    "scf = SCFPotential(1., Acos, Asin,a)\n",
    "density = calculateSCFDensity(R)"
   ]
  },
  {
   "cell_type": "code",
   "execution_count": null,
   "metadata": {
    "collapsed": false
   },
   "outputs": [],
   "source": [
    "plt.plot(R, density)\n",
    "plt.plot(R, nfwDensity)"
   ]
  },
  {
   "cell_type": "markdown",
   "metadata": {
    "collapsed": true
   },
   "source": [
    "### Axisymmetric density"
   ]
  },
  {
   "cell_type": "markdown",
   "metadata": {
    "collapsed": true
   },
   "source": [
    "We'll check if compute_coeffs_axi generalizes to compute_coeffs_spherical for a spherical function, as we expect it to.\n",
    "\n",
    "First, some usefull functions that is unique to spherical densities"
   ]
  },
  {
   "cell_type": "code",
   "execution_count": null,
   "metadata": {
    "collapsed": true
   },
   "outputs": [],
   "source": [
    "epi = 1e-14\n",
    "def test_Acosn(As, Aa):\n",
    "    return nu.all(As[0] - Aa[0][:,:1,:1] < epi)\n",
    "def test_Acos_nbiggerthan0(Aa):\n",
    "    return nu.all(nu.fabs(Aa[0][:,1:,1:]) <epi)\n",
    "def test_Asin_allZero(As, Aa):\n",
    "    return nu.all(nu.fabs(As[1]) < epi) and nu.all(nu.fabs(Aa[1]) < epi)\n",
    "\n",
    "def test_all(As,Aa):\n",
    "    return test_Acosn(As,Aa) and test_Acos_nbiggerthan0(Aa) and test_Asin_allZero(As,Aa)\n"
   ]
  },
  {
   "cell_type": "markdown",
   "metadata": {},
   "source": [
    "rho_Spherical"
   ]
  },
  {
   "cell_type": "code",
   "execution_count": 23,
   "metadata": {
    "collapsed": false
   },
   "outputs": [
    {
     "name": "stdout",
     "output_type": "stream",
     "text": [
      "True\n"
     ]
    }
   ],
   "source": [
    "Aspherical = compute_coeffs_spherical(rho_Spherical,10)\n",
    "Aaxi = compute_coeffs_axi(rho_Spherical, 10, 10)\n",
    "print test_all(Aspherical,Aaxi)"
   ]
  },
  {
   "cell_type": "markdown",
   "metadata": {},
   "source": [
    "Zeeuw's perfect ellipsoid"
   ]
  },
  {
   "cell_type": "code",
   "execution_count": 22,
   "metadata": {
    "collapsed": false
   },
   "outputs": [
    {
     "name": "stdout",
     "output_type": "stream",
     "text": [
      "True\n"
     ]
    }
   ],
   "source": [
    "Aspherical = compute_coeffs_spherical(rho_Zeeuw,10)\n",
    "Aaxi = compute_coeffs_axi(rho_Zeeuw, 10, 10)\n",
    "print test_all(Aspherical,Aaxi)"
   ]
  },
  {
   "cell_type": "markdown",
   "metadata": {},
   "source": [
    "NFW"
   ]
  },
  {
   "cell_type": "code",
   "execution_count": 21,
   "metadata": {
    "collapsed": false
   },
   "outputs": [
    {
     "name": "stdout",
     "output_type": "stream",
     "text": [
      "True\n"
     ]
    }
   ],
   "source": [
    "Aspherical = compute_coeffs_spherical(rho_NFW,10)\n",
    "Aaxi = compute_coeffs_axi(rho_NFW, 10, 10)\n",
    "print test_all(Aspherical,Aaxi)"
   ]
  },
  {
   "cell_type": "code",
   "execution_count": null,
   "metadata": {
    "collapsed": true
   },
   "outputs": [],
   "source": []
  },
  {
   "cell_type": "code",
   "execution_count": null,
   "metadata": {
    "collapsed": true
   },
   "outputs": [],
   "source": []
  },
  {
   "cell_type": "code",
   "execution_count": null,
   "metadata": {
    "collapsed": true
   },
   "outputs": [],
   "source": []
  },
  {
   "cell_type": "code",
   "execution_count": null,
   "metadata": {
    "collapsed": true
   },
   "outputs": [],
   "source": []
  }
 ],
 "metadata": {
  "kernelspec": {
   "display_name": "Python 2",
   "language": "python",
   "name": "python2"
  },
  "language_info": {
   "codemirror_mode": {
    "name": "ipython",
    "version": 2
   },
   "file_extension": ".py",
   "mimetype": "text/x-python",
   "name": "python",
   "nbconvert_exporter": "python",
   "pygments_lexer": "ipython2",
   "version": "2.7.11"
  }
 },
 "nbformat": 4,
 "nbformat_minor": 0
}
