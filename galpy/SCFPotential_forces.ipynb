{
 "cells": [
  {
   "cell_type": "code",
   "execution_count": 1,
   "metadata": {
    "collapsed": false
   },
   "outputs": [
    {
     "name": "stdout",
     "output_type": "stream",
     "text": [
      "galpyWarning: A major change in versions > 1.1 is that all galpy.potential functions and methods take the potential as the first argument; previously methods such as evaluatePotentials, evaluateDensities, etc. would be called with (R,z,Pot), now they are called as (Pot,R,z) for greater consistency across the codebase\n"
     ]
    }
   ],
   "source": [
    "import numpy as nu\n",
    "import matplotlib.pyplot as plt\n",
    "from galpy.potential import SCFPotential, HernquistPotential, NFWPotential, compute_coeffs_spherical,compute_coeffs_axi, compute_coeffs\n",
    "from galpy.potential import FlattenedPowerPotential\n",
    "from IPython.display import display, Math, Latex\n",
    "from galpy.util.bovy_coords import cyl_to_spher, spher_to_cyl\n",
    "%matplotlib inline  \n"
   ]
  },
  {
   "cell_type": "code",
   "execution_count": 2,
   "metadata": {
    "collapsed": false
   },
   "outputs": [],
   "source": [
    "h = HernquistPotential(amp=1, a=1)\n",
    "nfw = NFWPotential(amp=1, a=1)\n",
    "\n",
    "def rho_Spherical(R, z=0, phi=0.):\n",
    "    return h.dens(R,z)\n",
    "\n",
    "def rho_NFW(R, z=0, phi=0):\n",
    "    return nfw.dens(R, z)"
   ]
  },
  {
   "cell_type": "code",
   "execution_count": 3,
   "metadata": {
    "collapsed": false
   },
   "outputs": [],
   "source": [
    "Acos, Asin = compute_coeffs_spherical(rho_Spherical,2, 1.)\n",
    "scf = SCFPotential(Acos=Acos,Asin=Asin)"
   ]
  },
  {
   "cell_type": "code",
   "execution_count": 4,
   "metadata": {
    "collapsed": false
   },
   "outputs": [
    {
     "name": "stdout",
     "output_type": "stream",
     "text": [
      "-0.0241220513335\n",
      "-0.0241220513335\n"
     ]
    }
   ],
   "source": [
    "print scf._Rforce(2., 2,1.)\n",
    "print h._Rforce(2.,2,1.)"
   ]
  },
  {
   "cell_type": "code",
   "execution_count": 5,
   "metadata": {
    "collapsed": false
   },
   "outputs": [
    {
     "name": "stdout",
     "output_type": "stream",
     "text": [
      "-0.0241220513335\n",
      "-0.0241220513335\n"
     ]
    }
   ],
   "source": [
    "print scf._zforce(2.,2.,1.)\n",
    "print h._zforce(2.,2.,1.)"
   ]
  },
  {
   "cell_type": "code",
   "execution_count": 6,
   "metadata": {
    "collapsed": false
   },
   "outputs": [
    {
     "name": "stdout",
     "output_type": "stream",
     "text": [
      "0.0\n",
      "0.0\n"
     ]
    }
   ],
   "source": [
    "print scf._phiforce(1,2.,1.)\n",
    "print h._phiforce(1,2.,1.)"
   ]
  },
  {
   "cell_type": "code",
   "execution_count": 7,
   "metadata": {
    "collapsed": false
   },
   "outputs": [
    {
     "name": "stdout",
     "output_type": "stream",
     "text": [
      "-0.0533922502499\n",
      "-0.0533563262189\n"
     ]
    }
   ],
   "source": [
    "Acos, Asin = compute_coeffs_spherical(rho_NFW,200, 1.)\n",
    "scf = SCFPotential(Acos=Acos,Asin=Asin)\n",
    "print scf._Rforce(2, 2,1)\n",
    "print nfw._Rforce(2,2,1)\n"
   ]
  },
  {
   "cell_type": "code",
   "execution_count": 8,
   "metadata": {
    "collapsed": false
   },
   "outputs": [
    {
     "name": "stdout",
     "output_type": "stream",
     "text": [
      "-0.0533922502499\n",
      "-0.0533563262189\n"
     ]
    }
   ],
   "source": [
    "print scf._zforce(2, 2 ,1)\n",
    "print nfw._zforce(2,2, 1)"
   ]
  },
  {
   "cell_type": "code",
   "execution_count": 9,
   "metadata": {
    "collapsed": false
   },
   "outputs": [
    {
     "name": "stdout",
     "output_type": "stream",
     "text": [
      "0.0\n",
      "0.0\n"
     ]
    }
   ],
   "source": [
    "print scf._phiforce(1,2.,1.)\n",
    "print h._phiforce(1,2.,1.)"
   ]
  },
  {
   "cell_type": "code",
   "execution_count": 10,
   "metadata": {
    "collapsed": false
   },
   "outputs": [],
   "source": [
    "fp = FlattenedPowerPotential()"
   ]
  },
  {
   "cell_type": "code",
   "execution_count": 11,
   "metadata": {
    "collapsed": true
   },
   "outputs": [],
   "source": [
    "Acos, Asin = compute_coeffs_axi(fp.dens,20, 20)\n",
    "scf = SCFPotential(Acos=Acos,Asin=Asin)"
   ]
  },
  {
   "cell_type": "code",
   "execution_count": 12,
   "metadata": {
    "collapsed": false
   },
   "outputs": [
    {
     "name": "stdout",
     "output_type": "stream",
     "text": [
      "-0.385198536536\n",
      "-0.366022729247\n"
     ]
    }
   ],
   "source": [
    "print scf._Rforce(1,1,1.)\n",
    "print fp._Rforce(1,1,1.)"
   ]
  },
  {
   "cell_type": "code",
   "execution_count": 13,
   "metadata": {
    "collapsed": false
   },
   "outputs": [
    {
     "name": "stdout",
     "output_type": "stream",
     "text": [
      "-0.472672635617\n",
      "-0.45187991265\n"
     ]
    }
   ],
   "source": [
    "print scf._zforce(1.,1.,1.)\n",
    "print fp._zforce(1.,1.,1.)"
   ]
  },
  {
   "cell_type": "code",
   "execution_count": 14,
   "metadata": {
    "collapsed": false
   },
   "outputs": [
    {
     "name": "stdout",
     "output_type": "stream",
     "text": [
      "0.0\n",
      "0.0\n"
     ]
    }
   ],
   "source": [
    "print scf._phiforce(1,2.,1.)\n",
    "print fp._phiforce(1,2.,1.)"
   ]
  },
  {
   "cell_type": "code",
   "execution_count": null,
   "metadata": {
    "collapsed": true
   },
   "outputs": [],
   "source": []
  }
 ],
 "metadata": {
  "kernelspec": {
   "display_name": "Python 2",
   "language": "python",
   "name": "python2"
  },
  "language_info": {
   "codemirror_mode": {
    "name": "ipython",
    "version": 2
   },
   "file_extension": ".py",
   "mimetype": "text/x-python",
   "name": "python",
   "nbconvert_exporter": "python",
   "pygments_lexer": "ipython2",
   "version": "2.7.11"
  }
 },
 "nbformat": 4,
 "nbformat_minor": 0
}
