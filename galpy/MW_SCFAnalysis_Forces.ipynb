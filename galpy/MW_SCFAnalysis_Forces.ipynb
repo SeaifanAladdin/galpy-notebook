{
 "cells": [
  {
   "cell_type": "code",
   "execution_count": 17,
   "metadata": {
    "collapsed": false
   },
   "outputs": [],
   "source": [
    "import numpy as nu\n",
    "from galpy.potential import SCFPotential,PowerSphericalPotentialwCutoff, MiyamotoNagaiPotential\n",
    "from galpy import potential\n",
    "from SCFAnalysis.Constants import *\n",
    "from SCFAnalysis.func import *\n",
    "from galpy.util.bovy_coords import rect_to_cyl\n",
    "\n",
    "from astropy import units\n",
    "import matplotlib.pyplot as plt\n",
    "from IPython.display import display, Math, Latex\n",
    "%matplotlib inline  "
   ]
  },
  {
   "cell_type": "code",
   "execution_count": 18,
   "metadata": {
    "collapsed": false
   },
   "outputs": [
    {
     "name": "stdout",
     "output_type": "stream",
     "text": [
      "(R,z,phi) = (1.02649048729, 2.07777668333, 3.11292925354)\n",
      "(R,z,phi) = (1.02649048767, 2.07777668355, 3.11292925273)\n",
      "(R,z,phi) = (1.02649048798, 2.07777668429, 3.11292925229)\n",
      "(R,z,phi) = (1.02649049189, 2.0777766863, 3.11292924544)\n"
     ]
    }
   ],
   "source": [
    "folder = [\"SCF_Acos_N30_L30\", \"SCF_Acos2_N30_L30\", \"SCF_Acos3_N30_L30\", \"SCF_AcosFull_N30_L30\"]\n",
    "forces = getForces(folder)"
   ]
  },
  {
   "cell_type": "code",
   "execution_count": 29,
   "metadata": {
    "collapsed": false
   },
   "outputs": [
    {
     "name": "stdout",
     "output_type": "stream",
     "text": [
      "[[-0.16340315 -0.28279776  0.        ]\n",
      " [-0.16881121 -0.26327603  0.        ]\n",
      " [-0.23198334 -0.27139449  0.        ]\n",
      " [-0.23622891 -0.23958924  0.        ]]\n"
     ]
    }
   ],
   "source": [
    "print forces"
   ]
  },
  {
   "cell_type": "code",
   "execution_count": 20,
   "metadata": {
    "collapsed": false
   },
   "outputs": [
    {
     "name": "stdout",
     "output_type": "stream",
     "text": [
      "[ 1.          0.96836926  1.12814165  1.06637646]\n"
     ]
    }
   ],
   "source": [
    "amp = (forces[:,0] + forces[:,1])/(forces[0,0] + forces[0,1]) ## amp/2 (F_R' + F_z') =1/2* (F_R + F_z)\n",
    "print amp"
   ]
  },
  {
   "cell_type": "code",
   "execution_count": 11,
   "metadata": {
    "collapsed": false
   },
   "outputs": [
    {
     "name": "stdout",
     "output_type": "stream",
     "text": [
      "[ 1.          1.04432748  0.91479873  0.97072188]\n"
     ]
    }
   ],
   "source": [
    "## amp/4 (F_R'^2 + F_z'^2)^.5 =1/4* (F_R^2 + F_z^2)^.5\n",
    "amp = (forces[:,0]**2 + forces[:,1]**2)**-.5 * (forces[0,0]**2 + forces[0,1]**2)**.5\n",
    "print amp"
   ]
  }
 ],
 "metadata": {
  "kernelspec": {
   "display_name": "Python 2",
   "language": "python",
   "name": "python2"
  },
  "language_info": {
   "codemirror_mode": {
    "name": "ipython",
    "version": 2
   },
   "file_extension": ".py",
   "mimetype": "text/x-python",
   "name": "python",
   "nbconvert_exporter": "python",
   "pygments_lexer": "ipython2",
   "version": "2.7.11"
  }
 },
 "nbformat": 4,
 "nbformat_minor": 0
}
