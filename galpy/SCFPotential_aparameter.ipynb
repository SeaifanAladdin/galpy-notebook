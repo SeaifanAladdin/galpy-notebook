{
 "cells": [
  {
   "cell_type": "markdown",
   "metadata": {},
   "source": [
    "We start with equation (2.1) and (2.2) \n",
    "\n",
    "$$ \\rho(r) = \\frac{M}{2\\pi}\\frac{a}{r} \\frac{1}{(r + a)^3}$$\n",
    "\n",
    "$$\\phi(r) = - \\frac{GM}{r + a}$$"
   ]
  },
  {
   "cell_type": "markdown",
   "metadata": {},
   "source": [
    "Setting G = 1 and M = 1\n",
    "\n",
    "However, we'll keep the a term,\n",
    "\n",
    "$$\\rho(r) = \\frac{1}{2\\pi}\\frac{a}{r} \\frac{1}{(r + a)^3}$$\n",
    "\n",
    "$$\\phi(r) = - \\frac{1}{r + a}$$"
   ]
  },
  {
   "cell_type": "markdown",
   "metadata": {},
   "source": [
    "As in equation 2.6 and 2.7, we have\n",
    "\n",
    "$$\\rho(r) = \\sum_{nlm} A_{nlm} \\rho_{nlm}(r)$$\n",
    "$$\\Phi(r) = \\sum_{nlm} A_{nlm} \\Phi_{nlm}(r)$$"
   ]
  },
  {
   "cell_type": "markdown",
   "metadata": {},
   "source": [
    "Thus we want to expand about\n",
    "$$\\rho_{000} = \\frac{1}{2\\pi}\\frac{a}{r} \\frac{1}{(r + a)^3}$$\n",
    "\n",
    "$$\\Phi_{000} = - \\frac{1}{r + a}$$"
   ]
  },
  {
   "cell_type": "markdown",
   "metadata": {},
   "source": [
    "Next, let's write $\\phi_{0lm}$\n",
    "\n",
    "\n",
    "$$\\Phi_{0lm} = - \\frac{(a r)^l}{(r + a)^{2l + 1}} \\sqrt{4\\pi} Y_{lm}(\\theta, \\phi)$$\n",
    "\n",
    "(Note that I placed the  $a$ in the numerator such that the units of $\\Phi_{0lm}$ will be $\\frac{1}{[distance]}$  for all $l$)"
   ]
  },
  {
   "cell_type": "markdown",
   "metadata": {},
   "source": [
    "To find $\\rho_{0lm}$ we use poisson equation\n",
    "\n",
    "$$\\nabla^2\\Phi_{mnl}(r) = 4 \\pi \\rho_{nlm}(r)$$"
   ]
  },
  {
   "cell_type": "markdown",
   "metadata": {},
   "source": [
    "Because the math is tedious, we simply write $\\rho_{0lm}$ as\n",
    "\n",
    "$$\\rho_{0lm} = \\frac{1}{2\\pi} \\frac{(2l + 1)(l + 1) (ar)^l}{\\frac{r}{a} (a + r)^{2l + 3}} \\sqrt{4\\pi} Y_{lm}(\\theta, \\phi)$$\n",
    "\n",
    "Once again, the units of $\\rho_{0lm}$ is $\\frac{1}{[distance]^3}$ for all $l$."
   ]
  },
  {
   "cell_type": "markdown",
   "metadata": {},
   "source": [
    "Now we want to write down $\\Phi_{nlm}(r)$ and $\\rho_{nlm}(r)$.\n",
    "\n",
    "$$\\Phi_{nlm} = - \\frac{(a r)^l}{(r + a)^{2l + 1}} W_{nl} (\\xi) \\sqrt{4\\pi} Y_{lm}(\\theta, \\phi)$$\n",
    "\n",
    "$$\\rho_{nlm} = \\frac{K_{nl}}{2\\pi} \\frac{(ar)^l}{\\frac{r}{a} (a + r)^{2l + 3}}  W_{nl} (\\xi) \\sqrt{4\\pi} Y_{lm}(\\theta, \\phi)$$"
   ]
  },
  {
   "cell_type": "markdown",
   "metadata": {},
   "source": [
    "The radial transformation presented in the paper is $\\xi = \\frac{r - 1}{r + 1}$\n",
    "\n",
    "However, the radial transformation we'll be dealing with is\n",
    "$$\\xi = \\frac{r - a}{r + a}$$\n",
    "\n",
    "implying\n",
    "\n",
    "$$r = a \\frac{1 + \\xi}{1 - \\xi}$$"
   ]
  },
  {
   "cell_type": "markdown",
   "metadata": {},
   "source": []
  }
 ],
 "metadata": {
  "kernelspec": {
   "display_name": "Python 2",
   "language": "python",
   "name": "python2"
  },
  "language_info": {
   "codemirror_mode": {
    "name": "ipython",
    "version": 2
   },
   "file_extension": ".py",
   "mimetype": "text/x-python",
   "name": "python",
   "nbconvert_exporter": "python",
   "pygments_lexer": "ipython2",
   "version": "2.7.11"
  }
 },
 "nbformat": 4,
 "nbformat_minor": 0
}
