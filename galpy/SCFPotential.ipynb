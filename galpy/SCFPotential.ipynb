{
 "cells": [
  {
   "cell_type": "code",
   "execution_count": 1,
   "metadata": {
    "collapsed": false
   },
   "outputs": [
    {
     "name": "stdout",
     "output_type": "stream",
     "text": [
      "galpyWarning: A major change in versions > 1.1 is that all galpy.potential functions and methods take the potential as the first argument; previously methods such as evaluatePotentials, evaluateDensities, etc. would be called with (R,z,Pot), now they are called as (Pot,R,z) for greater consistency across the codebase\n"
     ]
    }
   ],
   "source": [
    "import numpy as nu\n",
    "import matplotlib.pyplot as plt\n",
    "from galpy.potential import SCFPotential, HernquistPotential,NFWPotential, compute_coeffs_spherical,compute_coeffs_axi\n",
    "from IPython.display import display, Math, Latex\n",
    "from galpy.util.bovy_coords import cyl_to_spher, spher_to_cyl\n",
    "%matplotlib inline  \n"
   ]
  },
  {
   "cell_type": "markdown",
   "metadata": {},
   "source": [
    "#SCFPotential"
   ]
  },
  {
   "cell_type": "markdown",
   "metadata": {},
   "source": [
    "## Examples"
   ]
  },
  {
   "cell_type": "markdown",
   "metadata": {},
   "source": [
    "### Spherical density "
   ]
  },
  {
   "cell_type": "markdown",
   "metadata": {},
   "source": [
    "Consider $\\rho (r) = \\frac{1}{2\\pi} \\frac{1}{r (1 + r)^3}$\n",
    "\n",
    "We get $A_{nlm} = \\delta_{n0}\\delta_{l0}\\delta_{m0}$"
   ]
  },
  {
   "cell_type": "code",
   "execution_count": 2,
   "metadata": {
    "collapsed": false
   },
   "outputs": [],
   "source": [
    "def rho_Spherical(R, z=0, phi=0., a=1.):\n",
    "    r, theta, phi = cyl_to_spher(R,z, phi)\n",
    "    return (2*nu.pi)**-1 * nu.power((r/a)*(a + r)**3 ,-1)"
   ]
  },
  {
   "cell_type": "code",
   "execution_count": 3,
   "metadata": {
    "collapsed": false
   },
   "outputs": [],
   "source": [
    "Acos, Asin = compute_coeffs_spherical(rho_Spherical,2)"
   ]
  },
  {
   "cell_type": "markdown",
   "metadata": {},
   "source": [
    "Creating the SCFPotential object"
   ]
  },
  {
   "cell_type": "code",
   "execution_count": 4,
   "metadata": {
    "collapsed": false
   },
   "outputs": [],
   "source": [
    "scf = SCFPotential(1., Acos, Asin, 2.)"
   ]
  },
  {
   "cell_type": "code",
   "execution_count": 5,
   "metadata": {
    "collapsed": true
   },
   "outputs": [],
   "source": [
    "def calculateSCFDensity(r):\n",
    "    density = nu.zeros(len(r), float)\n",
    "    for i in range(len(r)):\n",
    "        density[i] = scf.dens(r[i], 0)\n",
    "    return density"
   ]
  },
  {
   "cell_type": "code",
   "execution_count": 6,
   "metadata": {
    "collapsed": false
   },
   "outputs": [],
   "source": [
    "R = nu.linspace(0.001, .1, 1000)\n",
    "density = calculateSCFDensity(R)\n",
    "densityAnalytic = rho_Spherical(R, a=2.)"
   ]
  },
  {
   "cell_type": "code",
   "execution_count": 7,
   "metadata": {
    "collapsed": false
   },
   "outputs": [
    {
     "data": {
      "text/plain": [
       "[<matplotlib.lines.Line2D at 0x7ffa277be890>]"
      ]
     },
     "execution_count": 7,
     "metadata": {},
     "output_type": "execute_result"
    },
    {
     "data": {
      "image/png": "[encoded data removed]",
      "text/plain": [
       "<matplotlib.figure.Figure at 0x7ffa54652410>"
      ]
     },
     "metadata": {},
     "output_type": "display_data"
    }
   ],
   "source": [
    "plt.plot(R, density)\n",
    "plt.plot(R, densityAnalytic)"
   ]
  },
  {
   "cell_type": "markdown",
   "metadata": {},
   "source": [
    "We confirm that our numerical density matches with our analytic density"
   ]
  },
  {
   "cell_type": "markdown",
   "metadata": {},
   "source": [
    "#### Comparing to Hernquist potential"
   ]
  },
  {
   "cell_type": "code",
   "execution_count": 8,
   "metadata": {
    "collapsed": false
   },
   "outputs": [
    {
     "data": {
      "text/plain": [
       "[<matplotlib.lines.Line2D at 0x7ffa27711d10>]"
      ]
     },
     "execution_count": 8,
     "metadata": {},
     "output_type": "execute_result"
    },
    {
     "data": {
      "image/png": "[encoded data removed]",
      "text/plain": [
       "<matplotlib.figure.Figure at 0x7ffa276eba90>"
      ]
     },
     "metadata": {},
     "output_type": "display_data"
    }
   ],
   "source": [
    "h = HernquistPotential(2., 2.) ## Equation (2.1) and the implemented Hernquist amplitude has a factor 2 difference\n",
    "z = nu.zeros(len(R))\n",
    "hDensity = h.dens(R,z)\n",
    "plt.plot(R, density)\n",
    "plt.plot(R, hDensity)"
   ]
  },
  {
   "cell_type": "markdown",
   "metadata": {},
   "source": [
    "Confirmed that the implemented SCF potential matches with the already implemented Hernquist potential.\n",
    "\n",
    "The only note is amp=2. "
   ]
  },
  {
   "cell_type": "markdown",
   "metadata": {},
   "source": [
    "### Zeeuw's perfect ellipsoid"
   ]
  },
  {
   "cell_type": "markdown",
   "metadata": {},
   "source": [
    "Consider $\\rho (r) = \\frac{3}{4\\pi} \\frac{1}{(1 + r)^4}$\n",
    "\n",
    "We get $A_{nlm} = \\frac{3}{4}\\delta_{n0}\\delta_{l0}\\delta_{m0} + \\frac{1}{12}\\delta_{n1}\\delta_{l0}\\delta_{m0}$"
   ]
  },
  {
   "cell_type": "code",
   "execution_count": 9,
   "metadata": {
    "collapsed": false
   },
   "outputs": [],
   "source": [
    "def rho_Zeeuw(R, z=0., phi=0.):\n",
    "    r, theta, phi = cyl_to_spher(R,z, phi)\n",
    "    return 3./(4*nu.pi) * nu.power((1 + r),-4.)"
   ]
  },
  {
   "cell_type": "code",
   "execution_count": 10,
   "metadata": {
    "collapsed": false
   },
   "outputs": [],
   "source": [
    "Acos, Asin = compute_coeffs_spherical(rho_Zeeuw, 2) \n",
    "scf = SCFPotential(1., Acos, Asin, 1)"
   ]
  },
  {
   "cell_type": "code",
   "execution_count": 11,
   "metadata": {
    "collapsed": false
   },
   "outputs": [],
   "source": [
    "density = calculateSCFDensity(R)\n",
    "densityAnalytic = rho_Zeeuw(R)\n"
   ]
  },
  {
   "cell_type": "code",
   "execution_count": 12,
   "metadata": {
    "collapsed": false,
    "scrolled": true
   },
   "outputs": [
    {
     "data": {
      "text/plain": [
       "[<matplotlib.lines.Line2D at 0x7ffa275b20d0>]"
      ]
     },
     "execution_count": 12,
     "metadata": {},
     "output_type": "execute_result"
    },
    {
     "data": {
      "image/png": "[encoded data removed]",
      "text/plain": [
       "<matplotlib.figure.Figure at 0x7ffa2771d9d0>"
      ]
     },
     "metadata": {},
     "output_type": "display_data"
    }
   ],
   "source": [
    "plt.plot(R, density)\n",
    "plt.plot(R, densityAnalytic)"
   ]
  },
  {
   "cell_type": "markdown",
   "metadata": {
    "collapsed": true
   },
   "source": [
    "### NFW potential"
   ]
  },
  {
   "cell_type": "markdown",
   "metadata": {
    "collapsed": true
   },
   "source": [
    "Consider $\\rho (r) = \\frac{1}{4\\pi} \\frac{1}{r (1 + r)^2}$"
   ]
  },
  {
   "cell_type": "code",
   "execution_count": 13,
   "metadata": {
    "collapsed": true
   },
   "outputs": [],
   "source": [
    "def rho_NFW(R, z=0, phi=0., a=1.):\n",
    "    r, theta, phi = cyl_to_spher(R,z, phi)\n",
    "    return (4*nu.pi*a**3)**-1. * ((r/a)*(1. + r/a)**2)**-1."
   ]
  },
  {
   "cell_type": "code",
   "execution_count": 14,
   "metadata": {
    "collapsed": false
   },
   "outputs": [],
   "source": [
    "a = .01\n",
    "Acos, Asin = compute_coeffs_spherical(rho_NFW,1)\n",
    "scf = SCFPotential(1., Acos, Asin, a)"
   ]
  },
  {
   "cell_type": "code",
   "execution_count": 15,
   "metadata": {
    "collapsed": false
   },
   "outputs": [],
   "source": [
    "density = calculateSCFDensity(R)"
   ]
  },
  {
   "cell_type": "code",
   "execution_count": 16,
   "metadata": {
    "collapsed": true
   },
   "outputs": [],
   "source": [
    "nfw = NFWPotential(1., a=a)\n",
    "nfwDensity = nfw.dens(R,z)"
   ]
  },
  {
   "cell_type": "code",
   "execution_count": 17,
   "metadata": {
    "collapsed": false
   },
   "outputs": [
    {
     "data": {
      "text/plain": [
       "[<matplotlib.lines.Line2D at 0x7ffa2747eed0>]"
      ]
     },
     "execution_count": 17,
     "metadata": {},
     "output_type": "execute_result"
    },
    {
     "data": {
      "image/png": "[encoded data removed]",
      "text/plain": [
       "<matplotlib.figure.Figure at 0x7ffa274d8190>"
      ]
     },
     "metadata": {},
     "output_type": "display_data"
    }
   ],
   "source": [
    "plt.plot(R, density)\n",
    "plt.plot(R, nfwDensity)\n",
    "plt.plot(R, rho_NFW(R, a=a))"
   ]
  },
  {
   "cell_type": "markdown",
   "metadata": {},
   "source": [
    "As we can see, the function does not match well enough. Let's try increasing the size of the coefficients "
   ]
  },
  {
   "cell_type": "code",
   "execution_count": 18,
   "metadata": {
    "collapsed": false
   },
   "outputs": [],
   "source": [
    "Acos, Asin = compute_coeffs_spherical(rho_NFW,4)\n",
    "scf = SCFPotential(1., Acos, Asin,a)\n",
    "density = calculateSCFDensity(R)"
   ]
  },
  {
   "cell_type": "code",
   "execution_count": 19,
   "metadata": {
    "collapsed": false
   },
   "outputs": [
    {
     "data": {
      "text/plain": [
       "[<matplotlib.lines.Line2D at 0x7ffa2741f050>]"
      ]
     },
     "execution_count": 19,
     "metadata": {},
     "output_type": "execute_result"
    },
    {
     "data": {
      "image/png": "[encoded data removed]",
      "text/plain": [
       "<matplotlib.figure.Figure at 0x7ffa2741f590>"
      ]
     },
     "metadata": {},
     "output_type": "display_data"
    }
   ],
   "source": [
    "plt.plot(R, density)\n",
    "plt.plot(R, nfwDensity)"
   ]
  },
  {
   "cell_type": "markdown",
   "metadata": {},
   "source": [
    "It got worse. Let's try increasing it again..."
   ]
  },
  {
   "cell_type": "code",
   "execution_count": 20,
   "metadata": {
    "collapsed": false
   },
   "outputs": [],
   "source": [
    "Acos, Asin = compute_coeffs_spherical(rho_NFW,10)\n",
    "scf = SCFPotential(1., Acos, Asin,a)\n",
    "density = calculateSCFDensity(R)"
   ]
  },
  {
   "cell_type": "code",
   "execution_count": 21,
   "metadata": {
    "collapsed": false
   },
   "outputs": [
    {
     "data": {
      "text/plain": [
       "[<matplotlib.lines.Line2D at 0x7ffa27364ad0>]"
      ]
     },
     "execution_count": 21,
     "metadata": {},
     "output_type": "execute_result"
    },
    {
     "data": {
      "image/png": "[encoded data removed]",
      "text/plain": [
       "<matplotlib.figure.Figure at 0x7ffa27665810>"
      ]
     },
     "metadata": {},
     "output_type": "display_data"
    }
   ],
   "source": [
    "plt.plot(R, density)\n",
    "plt.plot(R, nfwDensity)"
   ]
  },
  {
   "cell_type": "markdown",
   "metadata": {},
   "source": [
    "Slightly better. Let's try one more time.."
   ]
  },
  {
   "cell_type": "code",
   "execution_count": 22,
   "metadata": {
    "collapsed": false
   },
   "outputs": [],
   "source": [
    "Acos, Asin = compute_coeffs_spherical(rho_NFW,100)\n",
    "scf = SCFPotential(1., Acos, Asin,a)\n",
    "density = calculateSCFDensity(R)"
   ]
  },
  {
   "cell_type": "code",
   "execution_count": 23,
   "metadata": {
    "collapsed": false
   },
   "outputs": [
    {
     "data": {
      "text/plain": [
       "[<matplotlib.lines.Line2D at 0x7ffa272a4fd0>]"
      ]
     },
     "execution_count": 23,
     "metadata": {},
     "output_type": "execute_result"
    },
    {
     "data": {
      "image/png": "[encoded data removed]",
      "text/plain": [
       "<matplotlib.figure.Figure at 0x7ffa2724a690>"
      ]
     },
     "metadata": {},
     "output_type": "display_data"
    }
   ],
   "source": [
    "plt.plot(R, density)\n",
    "plt.plot(R, nfwDensity)"
   ]
  },
  {
   "cell_type": "markdown",
   "metadata": {
    "collapsed": true
   },
   "source": [
    "### Axisymmetric density"
   ]
  },
  {
   "cell_type": "markdown",
   "metadata": {
    "collapsed": true
   },
   "source": [
    "We'll check if compute_coeffs_axi reduces to compute_coeffs_spherical for a spherical function, as we expect it to.\n",
    "\n",
    "First, some useful functions that is unique to spherical densities"
   ]
  },
  {
   "cell_type": "code",
   "execution_count": 24,
   "metadata": {
    "collapsed": true
   },
   "outputs": [],
   "source": [
    "epi = 1e-14\n",
    "def test_Acosn(As, Aa):\n",
    "    return nu.all(As[0] - Aa[0][:,:1,:1] < epi)\n",
    "def test_Acos_nbiggerthan0(Aa):\n",
    "    return nu.all(nu.fabs(Aa[0][:,1:,1:]) <epi)\n",
    "def test_Asin_allZero(As, Aa):\n",
    "    return nu.all(nu.fabs(As[1]) < epi) and nu.all(nu.fabs(Aa[1]) < epi)\n",
    "\n",
    "def test_all(As,Aa):\n",
    "    return test_Acosn(As,Aa) and test_Acos_nbiggerthan0(Aa) and test_Asin_allZero(As,Aa)\n"
   ]
  },
  {
   "cell_type": "markdown",
   "metadata": {},
   "source": [
    "rho_Spherical"
   ]
  },
  {
   "cell_type": "code",
   "execution_count": 26,
   "metadata": {
    "collapsed": false
   },
   "outputs": [
    {
     "name": "stdout",
     "output_type": "stream",
     "text": [
      "True\n"
     ]
    }
   ],
   "source": [
    "Aspherical = compute_coeffs_spherical(rho_Spherical,10)\n",
    "Aaxi = compute_coeffs_axi(rho_Spherical, 10, 10)\n",
    "print test_all(Aspherical,Aaxi)"
   ]
  },
  {
   "cell_type": "markdown",
   "metadata": {},
   "source": [
    "Zeeuw's perfect ellipsoid"
   ]
  },
  {
   "cell_type": "code",
   "execution_count": 27,
   "metadata": {
    "collapsed": false
   },
   "outputs": [
    {
     "name": "stdout",
     "output_type": "stream",
     "text": [
      "True\n"
     ]
    }
   ],
   "source": [
    "Aspherical = compute_coeffs_spherical(rho_Zeeuw,10)\n",
    "Aaxi = compute_coeffs_axi(rho_Zeeuw, 10, 10)\n",
    "print test_all(Aspherical,Aaxi)"
   ]
  },
  {
   "cell_type": "markdown",
   "metadata": {},
   "source": [
    "NFW"
   ]
  },
  {
   "cell_type": "code",
   "execution_count": 28,
   "metadata": {
    "collapsed": false
   },
   "outputs": [
    {
     "name": "stdout",
     "output_type": "stream",
     "text": [
      "True\n"
     ]
    }
   ],
   "source": [
    "Aspherical = compute_coeffs_spherical(rho_NFW,10)\n",
    "Aaxi = compute_coeffs_axi(rho_NFW, 10, 10)\n",
    "print test_all(Aspherical,Aaxi)"
   ]
  },
  {
   "cell_type": "code",
   "execution_count": null,
   "metadata": {
    "collapsed": true
   },
   "outputs": [],
   "source": []
  }
 ],
 "metadata": {
  "kernelspec": {
   "display_name": "Python 2",
   "language": "python",
   "name": "python2"
  },
  "language_info": {
   "codemirror_mode": {
    "name": "ipython",
    "version": 2
   },
   "file_extension": ".py",
   "mimetype": "text/x-python",
   "name": "python",
   "nbconvert_exporter": "python",
   "pygments_lexer": "ipython2",
   "version": "2.7.11"
  }
 },
 "nbformat": 4,
 "nbformat_minor": 0
}
