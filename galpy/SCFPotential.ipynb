{
 "cells": [
  {
   "cell_type": "code",
   "execution_count": 7,
   "metadata": {
    "collapsed": false
   },
   "outputs": [],
   "source": [
    "import numpy as nu\n",
    "import matplotlib.pyplot as plt\n",
    "from galpy.potential import SCFPotential\n",
    "from IPython.display import display, Math, Latex\n",
    "%matplotlib inline  "
   ]
  },
  {
   "cell_type": "markdown",
   "metadata": {},
   "source": [
    "#SCFPotential"
   ]
  },
  {
   "cell_type": "markdown",
   "metadata": {},
   "source": [
    "## Examples"
   ]
  },
  {
   "cell_type": "markdown",
   "metadata": {},
   "source": [
    "### Spherical density "
   ]
  },
  {
   "cell_type": "markdown",
   "metadata": {},
   "source": [
    "Consider $\\rho (r) = \\frac{1}{2\\pi} \\frac{1}{r (1 + r)^3}$\n",
    "\n",
    "We get $A_{nlm} = \\delta_{n0}\\delta_{l0}\\delta_{m0}$"
   ]
  },
  {
   "cell_type": "code",
   "execution_count": 8,
   "metadata": {
    "collapsed": true
   },
   "outputs": [],
   "source": [
    "def rho_Spherical(r):\n",
    "    return (2*nu.pi)**-1 * (r*(1 + r)**3)**-1\n",
    "\n",
    "def sphericalA(N,L):\n",
    "    A = nu.zeros((N,L,L), complex)\n",
    "    A[0,0,0] = 1.\n",
    "    return nu.real(A), nu.imag(A)"
   ]
  },
  {
   "cell_type": "code",
   "execution_count": 9,
   "metadata": {
    "collapsed": false
   },
   "outputs": [],
   "source": [
    "Areal, Aimag = sphericalA(10,10) "
   ]
  },
  {
   "cell_type": "markdown",
   "metadata": {},
   "source": [
    "Creating the SCFPotential object"
   ]
  },
  {
   "cell_type": "code",
   "execution_count": 10,
   "metadata": {
    "collapsed": false
   },
   "outputs": [],
   "source": [
    "scf = SCFPotential(1., Areal, Aimag)"
   ]
  },
  {
   "cell_type": "code",
   "execution_count": 11,
   "metadata": {
    "collapsed": false
   },
   "outputs": [
    {
     "name": "stdout",
     "output_type": "stream",
     "text": [
      "The scale factor between the two densities are, 0.282094791774 +/- 9.03656071977e-17\n"
     ]
    }
   ],
   "source": [
    "R = nu.linspace(0.01, 1., 1000)\n",
    "density = nu.zeros(1000, float)\n",
    "densityAnalytic = rho_Spherical(R)\n",
    "for i in range(len(R)):\n",
    "    density[i] = scf.dens(R[i], 0)\n",
    "x = densityAnalytic/density\n",
    "\n",
    "print \"The scale factor between the two densities are, {0} +/- {1}\".format(nu.mean(x), nu.std(x))\n",
    "##Normalizing\n",
    "density /= nu.max(density)\n",
    "densityAnalytic /= nu.max(densityAnalytic)"
   ]
  },
  {
   "cell_type": "code",
   "execution_count": 12,
   "metadata": {
    "collapsed": false
   },
   "outputs": [
    {
     "data": {
      "text/plain": [
       "[<matplotlib.lines.Line2D at 0x7fafc212ec50>]"
      ]
     },
     "execution_count": 12,
     "metadata": {},
     "output_type": "execute_result"
    },
    {
     "data": {
      "image/png": "[encoded data removed]",
      "text/plain": [
       "<matplotlib.figure.Figure at 0x7fafc212ea10>"
      ]
     },
     "metadata": {},
     "output_type": "display_data"
    }
   ],
   "source": [
    "plt.plot(R, density)\n",
    "plt.plot(R, densityAnalytic)"
   ]
  },
  {
   "cell_type": "markdown",
   "metadata": {},
   "source": [
    "We confirm that our numerical density matches with our analytic density"
   ]
  },
  {
   "cell_type": "markdown",
   "metadata": {},
   "source": [
    "### Zeeuw's perfect ellipsoid"
   ]
  },
  {
   "cell_type": "markdown",
   "metadata": {},
   "source": [
    "Consider $\\rho (r) = \\frac{3}{4\\pi} \\frac{1}{(1 + r)^4}$\n",
    "\n",
    "We get $A_{nlm} = \\frac{3}{4}\\delta_{n0}\\delta_{l0}\\delta_{m0} + \\frac{1}{12}\\delta_{n1}\\delta_{l0}\\delta_{m0}$"
   ]
  },
  {
   "cell_type": "code",
   "execution_count": 13,
   "metadata": {
    "collapsed": true
   },
   "outputs": [],
   "source": [
    "def rho_Zeeuw(r):\n",
    "    return 3./(4*nu.pi) * (1. + r)**-4.\n",
    "\n",
    "def ZeeuwA(N,L):\n",
    "    A = nu.zeros((N,L,L), complex)\n",
    "    A[0,0,0] = 3./4\n",
    "    A[1,0,0] = 1./12\n",
    "    return nu.real(A), nu.imag(A)"
   ]
  },
  {
   "cell_type": "code",
   "execution_count": 14,
   "metadata": {
    "collapsed": false
   },
   "outputs": [],
   "source": [
    "Areal, Aimag = ZeeuwA(10,10) \n",
    "scf = SCFPotential(1., Areal, Aimag)"
   ]
  },
  {
   "cell_type": "code",
   "execution_count": 15,
   "metadata": {
    "collapsed": false
   },
   "outputs": [
    {
     "name": "stdout",
     "output_type": "stream",
     "text": [
      "The scale factor between the two densities are, 0.142457869846 +/- 0.0807000742285\n"
     ]
    }
   ],
   "source": [
    "R = nu.linspace(0.01, 1., 1000)\n",
    "density = nu.zeros(1000, float)\n",
    "densityAnalytic = rho_Zeeuw(R)\n",
    "for i in range(len(R)):\n",
    "    density[i] = scf.dens(R[i], 0)\n",
    "\n",
    "x = densityAnalytic/density\n",
    "print \"The scale factor between the two densities are, {0} +/- {1}\".format(nu.mean(x), nu.std(x))\n",
    "\n",
    "##Normalizing\n",
    "density /= nu.max(density)\n",
    "densityAnalytic /= nu.max(densityAnalytic)"
   ]
  },
  {
   "cell_type": "code",
   "execution_count": 16,
   "metadata": {
    "collapsed": false,
    "scrolled": true
   },
   "outputs": [
    {
     "data": {
      "text/plain": [
       "[<matplotlib.lines.Line2D at 0x7fafc20898d0>]"
      ]
     },
     "execution_count": 16,
     "metadata": {},
     "output_type": "execute_result"
    },
    {
     "data": {
      "image/png": "[encoded data removed]",
      "text/plain": [
       "<matplotlib.figure.Figure at 0x7fafc20892d0>"
      ]
     },
     "metadata": {},
     "output_type": "display_data"
    }
   ],
   "source": [
    "plt.plot(R, density)\n",
    "plt.plot(R, densityAnalytic)"
   ]
  }
 ],
 "metadata": {
  "kernelspec": {
   "display_name": "Python 2",
   "language": "python",
   "name": "python2"
  },
  "language_info": {
   "codemirror_mode": {
    "name": "ipython",
    "version": 2
   },
   "file_extension": ".py",
   "mimetype": "text/x-python",
   "name": "python",
   "nbconvert_exporter": "python",
   "pygments_lexer": "ipython2",
   "version": "2.7.11"
  }
 },
 "nbformat": 4,
 "nbformat_minor": 0
}
