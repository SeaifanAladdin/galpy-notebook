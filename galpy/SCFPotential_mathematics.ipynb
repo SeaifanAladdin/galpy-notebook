{
 "cells": [
  {
   "cell_type": "markdown",
   "metadata": {},
   "source": [
    "#Axi-Symmetric Coefficients"
   ]
  },
  {
   "cell_type": "markdown",
   "metadata": {},
   "source": [
    "For an axi-symmetric coefficient, we must set m=0\n",
    "$$A_{nl0} = \\frac{1}{I_{nl}} \\int\\rho(\\textbf{r})[\\Phi_{nl0}(\\textbf{r})]^* d\\textbf{r}$$\n"
   ]
  },
  {
   "cell_type": "markdown",
   "metadata": {},
   "source": [
    "Let's quickly look at $I_{nl}$ first. Hernquist & Ostriker already gave it to us in equation (2.31)\n",
    "$$I_{nl} = -K_{nl} \\frac{4\\pi}{2^{8l + 6}} \\frac{\\Gamma(n + 4l + 3)}{n!(n + 2l + 3/2)[\\Gamma(2l + 3/2)]^2}$$\n",
    "\n",
    "where \n",
    "$$K_{nl} = \\frac{1}{2} n (n + 4l + 3) + (l + 1)(2l + 1)$$\n",
    "\n",
    "I have doubled check this answer and confirmed that it's correct by starting from equation (2.26)"
   ]
  },
  {
   "cell_type": "markdown",
   "metadata": {},
   "source": [
    "Now Let's look at $\\Phi_{nl0}(r)$,\n",
    "\n",
    "$$\\Phi_{nl0} = - \\frac{r^l}{(1 + r)^{2l + 1}} C_n^{2l + 3/2}(\\xi) \\sqrt{4\\pi} Y_{l0}(\\theta, \\phi)$$\n",
    "\n",
    "$$\\Phi_{nl0} = - \\frac{\\left( \\frac{1 + \\xi}{1 - \\xi}\\right)^l}{\\left(1 + \\left( \\frac{1 + \\xi}{1 - \\xi}\\right)\\right)^{2l + 1}} C_n^{2l + 3/2}(\\xi) \\sqrt{4\\pi} Y_{l0}(\\theta, \\phi)$$\n",
    "\n",
    "$$\\Phi_{nl0} = - \\frac{\\left( \\frac{1 + \\xi}{1 - \\xi}\\right)^l}{\\left( \\frac{2}{1 - \\xi}\\right)^{2l + 1}} C_n^{2l + 3/2}(\\xi) \\sqrt{4\\pi} Y_{l0}(\\theta, \\phi)$$\n",
    "\n",
    "$$\\Phi_{nl0} = - 2^{-2l - 1} (1 + \\xi)^l (1 - \\xi)^{l + 1} C_n^{2l + 3/2}(\\xi) \\sqrt{4\\pi} Y_{l0}(\\theta, \\phi)$$"
   ]
  },
  {
   "cell_type": "markdown",
   "metadata": {},
   "source": [
    "Note, \n",
    "\n",
    "$$Y_{l0}(\\theta, \\phi) \\sqrt{\\frac{2l + 1}{4\\pi}}P_{l0}(\\cos{\\theta})$$\n",
    "Therefore,\n",
    "\n",
    "$$\\Phi_{nl0} = - 2^{-2l - 1} \\sqrt{2l + 1} (1 + \\xi)^l (1 - \\xi)^{l + 1} C_n^{2l + 3/2}(\\xi) P_{l0}(\\cos{\\theta})$$"
   ]
  },
  {
   "cell_type": "markdown",
   "metadata": {},
   "source": [
    "The last element to look at is the volume integral. \n",
    "\n",
    "$$d\\textbf{r} = r^2 \\sin{\\theta} dr d\\theta d\\phi= (1 + \\xi)^2 (1 - \\xi)^{-2} \\sin{(\\theta)} 2 (1 - \\xi)^{-2} d\\xi d\\theta d\\phi$$\n",
    "\n",
    "$$d\\textbf{r} = 2 (1 + \\xi)^2 (1 - \\xi)^{-4} \\sin{\\theta} d\\xi d\\theta d\\phi$$"
   ]
  },
  {
   "cell_type": "markdown",
   "metadata": {},
   "source": [
    "Putting everything together,\n",
    "\n",
    "$$A_{nl0} = -2^{-2l} \\sqrt{2l + 1}\\frac{1}{I_{nl}} \\int_0^{2\\pi}\\int_0^{\\pi}\\int_{-1}^{1} \\rho(\\xi, \\theta) (1 + \\xi)^{l + 2} (1 - \\xi)^{l - 3} C_n^{2l + 3/2}(\\xi) P_{l0}(\\cos{\\theta}) \\sin{\\theta}d\\xi d\\theta d\\phi$$\n",
    "\n",
    "Taking the $\\phi$ integral,\n",
    "\n",
    "$$A_{nl0} = -\\frac{2^{-2l + 1} \\sqrt{2l + 1} \\pi}{I_{nl}} \\int_0^{\\pi}\\int_{-1}^{1} \\rho(\\xi, \\theta) (1 + \\xi)^{l + 2} (1 - \\xi)^{l - 3} C_n^{2l + 3/2}(\\xi) P_{l0}(\\cos{\\theta}) \\sin{\\theta}d\\xi d\\theta$$"
   ]
  },
  {
   "cell_type": "markdown",
   "metadata": {},
   "source": [
    "# Example "
   ]
  },
  {
   "cell_type": "markdown",
   "metadata": {},
   "source": [
    "$$\\rho(r,\\theta) = \\frac{1}{2\\pi} \\frac{1}{r(1 + r)^3}(1 + \\cos{\\theta} + \\cos^2{\\theta})$$\n",
    "$$\\rho(\\xi,\\cos(\\theta)) = \\frac{1}{2^4 \\pi} (1 - \\xi)^4 (1 + \\xi)^{-1} (1 + \\cos{\\theta} + (\\cos{\\theta})^2)$$\n",
    "Plugging this in, we get,\n",
    "\n",
    "$$A_{nl0} = -\\frac{2^{-2l - 3 } \\sqrt{2l + 1}}{I_{nl}} \\int_{-1}^{1}\\int_{-1}^{1} (1 + \\xi)^{l + 1} (1 - \\xi)^{l  + 1} C_n^{2l + 3/2}(\\xi) P_{l0}(\\cos{\\theta}) (1 + \\cos{\\theta} + (\\cos{\\theta})^2) d\\xi d\\cos{\\theta}$$\n",
    "\n",
    "$$A_{nl0} = -\\frac{2^{-2l - 3} \\sqrt{2l + 1}}{I_{nl}} \\int_{-1}^{1}(1 - \\xi^2)^{l + 1} C_n^{2l + 3/2}(\\xi) d\\xi \\int_{-1}^{1}  P_{l0}(\\cos{\\theta}) (1 + \\cos{\\theta} + (\\cos{\\theta})^2)  d\\cos{\\theta}$$"
   ]
  },
  {
   "cell_type": "markdown",
   "metadata": {},
   "source": [
    "## integral over $\\cos{\\theta}$"
   ]
  },
  {
   "cell_type": "markdown",
   "metadata": {},
   "source": [
    "Looking at the integral over $\\cos{\\theta}$ first,\n",
    "\n",
    "$$\\int_{-1}^{1}  P_{l0}(\\cos{\\theta}) (1 + \\cos{\\theta} + (\\cos{\\theta})^2)  d\\cos{\\theta}$$\n",
    "\n",
    "$(1 + \\cos{\\theta} + (\\cos{\\theta})^2) $ can be written as\n",
    "\n",
    "$$(1 + \\cos{\\theta} + (\\cos{\\theta})^2)  = \\frac{4}{3} P_{00}(\\cos{\\theta}) + 1 P_{10}(\\cos{\\theta}) + \\frac{2}{3}P_{20}(\\cos{\\theta}) $$\n",
    "\n",
    "Therefore, the integral can be written as\n",
    "\n",
    "$$\\int_{-1}^{1} \\left( \\frac{4}{3} P_{00}(\\cos{\\theta}) P_{l0}(\\cos{\\theta}) + 1 P_{10}(\\cos{\\theta}) P_{l0}(\\cos{\\theta}) + \\frac{2}{3}P_{20}(\\cos{\\theta}) P_{l0}(\\cos{\\theta})\\right) d\\cos{\\theta}$$"
   ]
  },
  {
   "cell_type": "markdown",
   "metadata": {},
   "source": [
    "Using the identity from [wolfram](http://mathworld.wolfram.com/LegendrePolynomial.html),\n",
    "\n",
    "$$\\int_{-1}^1 P_n(x) P_m(x) dx = \\frac{2}{2n + 1} \\delta_{mn}$$\n",
    "\n",
    "\n",
    "We get\n",
    "\n",
    "$$\\int_{-1}^{1}  P_{l0}(\\cos{\\theta}) (1 + \\cos{\\theta} + (\\cos{\\theta})^2)  d\\cos{\\theta} =\\frac{8}{3} \\delta_{l0} + \\frac{2}{3} \\delta_{l1} + \\frac{4}{15} \\delta_{l2}$$ "
   ]
  },
  {
   "cell_type": "markdown",
   "metadata": {},
   "source": [
    "## Integral over $\\xi$"
   ]
  },
  {
   "cell_type": "markdown",
   "metadata": {},
   "source": [
    "Next is to deal with the integral over $\\xi$\n",
    "\n",
    "$$\\int_{-1}^{1}(1 - \\xi^2)^{l + 1} C_n^{2l + 3/2}(\\xi) d\\xi$$\n",
    "\n",
    "Taking advantage that $C_0^{2l + 3/2}(\\xi) = 1$, we get\n",
    "\n",
    "$$\\int_{-1}^{1}(1 - \\xi^2)^{l + 1} C_n^{2l + 3/2}(\\xi)C_0^{2l + 3/2}(\\xi) d\\xi$$\n",
    "\n",
    "Unfortantly, we cannot use equation (2.29) for all l except l=0 since we have $(1 - \\xi^2)^{l + 1}$ rather than $(1 - \\xi^2)^{2l + 1}$"
   ]
  },
  {
   "cell_type": "markdown",
   "metadata": {},
   "source": [
    "### Setting l=0 "
   ]
  },
  {
   "cell_type": "markdown",
   "metadata": {},
   "source": [
    "If we set l = 0, then we have\n",
    "\n",
    "$$\\int_{-1}^{1}(1 - \\xi^2) C_n^{3/2}(\\xi)C_0^{3/2}(\\xi) d\\xi = \\frac{\\pi}{2^{2}} \\frac{\\Gamma(n + 3)}{n!(n + 3/2)[\\Gamma(3/2)]^2}  \\delta_{n0} = \\frac{4}{3} \\delta_{n0}$$\n",
    "\n",
    "Note that $I_{00} = \\frac{1}{3}$, thus \n",
    "\n",
    "$$ \\frac{1}{I_{n0}} \\int_{-1}^{1}(1 - \\xi^2) C_n^{3/2}(\\xi)C_0^{3/2}(\\xi) d\\xi = \\frac{4}{3}\\frac{1}{I_{n0}}\\delta_{n0} = 4 \\delta_{n0}$$ \n",
    "\n",
    "Putting everything together for *l=0*,\n",
    "\n",
    "$$A_{n00} = 2^{-3} 4 \\delta_{n0} \\frac{8}{3} $$\n",
    "\n",
    "$$A_{n00} =  \\frac{4}{3} \\delta_{n0}$$\n"
   ]
  },
  {
   "cell_type": "markdown",
   "metadata": {},
   "source": [
    "### Setting n=0"
   ]
  },
  {
   "cell_type": "markdown",
   "metadata": {},
   "source": [
    "Looking at this equation\n",
    "\n",
    "$$\\int_{-1}^{1}(1 - \\xi^2)^{l + 1} C_n^{2l + 3/2}(\\xi) d\\xi$$\n",
    "\n",
    "We could also set n=0 to get\n",
    "\n",
    "$$\\int_{-1}^{1}(1 - \\xi^2)^{l + 1} d\\xi = \\sqrt{\\pi} \\frac{\\Gamma(l + 2)}{\\Gamma(l + \\frac{5}{2})}$$\n",
    "\n",
    "Thus\n",
    "\n",
    "$$\\int_{-1}^{1}(1 - \\xi^2)^{l + 1} d\\xi \\int_{-1}^{1}  P_{l0}(\\cos{\\theta}) (1 + \\cos{\\theta} + (\\cos{\\theta})^2)  d\\cos{\\theta}$$\n",
    "\n",
    "$$= \\sqrt{\\pi} \\frac{\\Gamma(l + 2)}{\\Gamma(l + \\frac{5}{2})} \\left(\\frac{8}{3} \\delta_{l0} + \\frac{2}{3} \\delta_{l1} + \\frac{4}{15} \\delta_{l2}\\right)$$\n",
    "\n",
    "$$=\\sqrt{\\pi}\\frac{\\Gamma(2)}{\\Gamma(\\frac{5}{2})}\\frac{8}{3} \\delta_{l0} + \\sqrt{\\pi}\\frac{\\Gamma(3)}{\\Gamma(\\frac{7}{2})} \\frac{2}{3} \\delta_{l1} + \\sqrt{\\pi}\\frac{\\Gamma(4)}{\\Gamma(\\frac{9}{2})} \\frac{4}{15} \\delta_{l2}$$\n",
    "\n",
    "$$=\\sqrt{\\pi}\\frac{4}{3 \\sqrt{\\pi}}\\frac{8}{3} \\delta_{l0} + \\sqrt{\\pi}\\frac{2 \\times 2^3}{15  \\sqrt{\\pi}} \\frac{2}{3} \\delta_{l1} + \\sqrt{\\pi}\\frac{3 \\times 2 \\times 2^4}{105 \\sqrt{\\pi}} \\frac{4}{15} \\delta_{l2}$$\n",
    "\n",
    "$$=\\frac{2^5}{3^2} \\delta_{l0} + \\frac{2^5}{3^2 5 } \\delta_{l1} + \\frac{2^7}{5^2 \\times 3 \\times 7} \\delta_{l2}$$\n"
   ]
  },
  {
   "cell_type": "markdown",
   "metadata": {},
   "source": [
    "Outside the Integral, we have\n",
    "\n",
    "$$-\\frac{2^{-2l - 3} \\sqrt{2l + 1}}{I_{0l}} = \\frac{2^{-2l - 3} \\sqrt{2l + 1} \\times 2^{8l + 6} (2l + 3/2) [\\Gamma(2l + 3/2)]^2}{(l + 1)(2l + 1) 4 \\pi \\Gamma(4l + 3)} $$\n",
    "\n",
    "$$= \\frac{2^{6l + 1} (2l + 3/2) [\\Gamma(2l + 3/2)]^2}{(l + 1)\\sqrt{2l + 1} \\pi \\Gamma(4l + 3)} $$\n",
    "$$= \\frac{3}{2^3} \\delta_{l0} + \\frac{5\\times 7}{2^5 3^{1/2}} \\delta_{l1} + \\frac{3\\times 7 \\times 11}{2^6 \\sqrt{5}} \\delta_{l2} + ... $$"
   ]
  },
  {
   "cell_type": "markdown",
   "metadata": {},
   "source": [
    "Plugging everything in,\n",
    "\n",
    "$$A_{0l0} = \\frac{4}{3}\\delta_{l0} + \\frac{7}{3^{5/2}}\\delta_{l1} + \\frac{2\\times 11}{5^{5/2}}\\delta_{l2}$$"
   ]
  },
  {
   "cell_type": "markdown",
   "metadata": {},
   "source": [
    "### For $n \\epsilon \\mathbb{N}$ and $l \\epsilon \\mathbb{L}$"
   ]
  },
  {
   "cell_type": "markdown",
   "metadata": {},
   "source": [
    "unfortunately, I do not know how to analytically solve\n",
    "\n",
    "$$\\int_{-1}^{1}(1 - \\xi^2)^{l + 1} C_n^{2l + 3/2}(\\xi)C_0^{2l + 3/2}(\\xi) d\\xi$$\n",
    "\n",
    "for $n \\neq 0$ or $l \\neq 0$"
   ]
  },
  {
   "cell_type": "markdown",
   "metadata": {},
   "source": [
    "# A Parameter"
   ]
  },
  {
   "cell_type": "markdown",
   "metadata": {},
   "source": [
    "We start with equation (2.1) and (2.2) \n",
    "\n",
    "$$ \\rho(r) = \\frac{M}{2\\pi}\\frac{a}{r} \\frac{1}{(r + a)^3}$$\n",
    "\n",
    "$$\\phi(r) = - \\frac{GM}{r + a}$$"
   ]
  },
  {
   "cell_type": "markdown",
   "metadata": {},
   "source": [
    "Setting G = 1 and M = 1\n",
    "\n",
    "However, we'll keep the a term,\n",
    "\n",
    "$$\\rho(r) = \\frac{1}{2\\pi}\\frac{a}{r} \\frac{1}{(r + a)^3}$$\n",
    "\n",
    "$$\\phi(r) = - \\frac{1}{r + a}$$"
   ]
  },
  {
   "cell_type": "markdown",
   "metadata": {},
   "source": [
    "As in equation 2.6 and 2.7, we have\n",
    "\n",
    "$$\\rho(r) = \\sum_{nlm} A_{nlm} \\rho_{nlm}(r)$$\n",
    "$$\\Phi(r) = \\sum_{nlm} A_{nlm} \\Phi_{nlm}(r)$$"
   ]
  },
  {
   "cell_type": "markdown",
   "metadata": {},
   "source": [
    "Thus we want to expand about\n",
    "$$\\rho_{000} = \\frac{1}{2\\pi}\\frac{a}{r} \\frac{1}{(r + a)^3}$$\n",
    "\n",
    "$$\\Phi_{000} = - \\frac{1}{r + a}$$"
   ]
  },
  {
   "cell_type": "markdown",
   "metadata": {},
   "source": [
    "Next, let's write $\\phi_{0lm}$\n",
    "\n",
    "\n",
    "$$\\Phi_{0lm} = - \\frac{(a r)^l}{(r + a)^{2l + 1}} \\sqrt{4\\pi} Y_{lm}(\\theta, \\phi)$$\n",
    "\n",
    "(Note that I placed the  $a$ in the numerator such that the units of $\\Phi_{0lm}$ will be $\\frac{1}{[distance]}$  for all $l$)"
   ]
  },
  {
   "cell_type": "markdown",
   "metadata": {},
   "source": [
    "To find $\\rho_{0lm}$ we use poisson equation\n",
    "\n",
    "$$\\nabla^2\\Phi_{mnl}(r) = 4 \\pi \\rho_{nlm}(r)$$"
   ]
  },
  {
   "cell_type": "markdown",
   "metadata": {},
   "source": [
    "Because the math is tedious, we simply write $\\rho_{0lm}$ as\n",
    "\n",
    "$$\\rho_{0lm} = \\frac{1}{2\\pi} \\frac{(2l + 1)(l + 1) (ar)^l}{\\frac{r}{a} (a + r)^{2l + 3}} \\sqrt{4\\pi} Y_{lm}(\\theta, \\phi)$$\n",
    "\n",
    "Once again, the units of $\\rho_{0lm}$ is $\\frac{1}{[distance]^3}$ for all $l$."
   ]
  },
  {
   "cell_type": "markdown",
   "metadata": {},
   "source": [
    "Now we want to write down $\\Phi_{nlm}(r)$ and $\\rho_{nlm}(r)$.\n",
    "\n",
    "$$\\Phi_{nlm} = - \\frac{(a r)^l}{(r + a)^{2l + 1}} W_{nl} (\\xi) \\sqrt{4\\pi} Y_{lm}(\\theta, \\phi)$$\n",
    "\n",
    "$$\\rho_{nlm} = \\frac{K_{nl}}{2\\pi} \\frac{(ar)^l}{\\frac{r}{a} (a + r)^{2l + 3}}  W_{nl} (\\xi) \\sqrt{4\\pi} Y_{lm}(\\theta, \\phi)$$"
   ]
  },
  {
   "cell_type": "markdown",
   "metadata": {},
   "source": [
    "The radial transformation presented in the paper is $\\xi = \\frac{r - 1}{r + 1}$\n",
    "\n",
    "However, the radial transformation we'll be dealing with is\n",
    "$$\\xi = \\frac{r - a}{r + a}$$\n",
    "\n",
    "implying\n",
    "\n",
    "$$r = a \\frac{1 + \\xi}{1 - \\xi}$$"
   ]
  },
  {
   "cell_type": "markdown",
   "metadata": {},
   "source": []
  }
 ],
 "metadata": {
  "kernelspec": {
   "display_name": "Python 2",
   "language": "python",
   "name": "python2"
  },
  "language_info": {
   "codemirror_mode": {
    "name": "ipython",
    "version": 2
   },
   "file_extension": ".py",
   "mimetype": "text/x-python",
   "name": "python",
   "nbconvert_exporter": "python",
   "pygments_lexer": "ipython2",
   "version": "2.7.11"
  }
 },
 "nbformat": 4,
 "nbformat_minor": 0
}
