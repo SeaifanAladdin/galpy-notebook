{
 "cells": [
  {
   "cell_type": "code",
   "execution_count": 1,
   "metadata": {
    "collapsed": false
   },
   "outputs": [
    {
     "name": "stdout",
     "output_type": "stream",
     "text": [
      "galpyWarning: A major change in versions > 1.1 is that all galpy.potential functions and methods take the potential as the first argument; previously methods such as evaluatePotentials, evaluateDensities, etc. would be called with (R,z,Pot), now they are called as (Pot,R,z) for greater consistency across the codebase\n"
     ]
    }
   ],
   "source": [
    "import numpy as nu\n",
    "from galpy.potential import SCFPotential,PowerSphericalPotentialwCutoff, MiyamotoNagaiPotential\n",
    "from galpy import potential\n",
    "from SCFAnalysis.Constants import *\n",
    "from SCFAnalysis.func import *\n",
    "from galpy.util.bovy_coords import rect_to_cyl\n",
    "\n",
    "from astropy import units"
   ]
  },
  {
   "cell_type": "code",
   "execution_count": 4,
   "metadata": {
    "collapsed": false
   },
   "outputs": [],
   "source": [
    "folder = [\"SCF_Acos_N30_L30\", \"SCF_Acos2_N30_L30\", \"SCF_Acos3_N30_L30\", \"SCF_AcosFull_N30_L30\"]\n",
    "forces = getForces(folder)"
   ]
  },
  {
   "cell_type": "code",
   "execution_count": 5,
   "metadata": {
    "collapsed": false
   },
   "outputs": [
    {
     "name": "stdout",
     "output_type": "stream",
     "text": [
      "[[ -2.22530330e-06  -4.66998684e-09   0.00000000e+00]\n",
      " [ -2.22514153e-06  -3.07805739e-08   0.00000000e+00]\n",
      " [ -2.22525098e-06  -1.27913972e-08   0.00000000e+00]\n",
      " [ -2.22543242e-06   1.63287269e-08   0.00000000e+00]]\n"
     ]
    }
   ],
   "source": [
    "print forces"
   ]
  },
  {
   "cell_type": "code",
   "execution_count": 16,
   "metadata": {
    "collapsed": false
   },
   "outputs": [
    {
     "name": "stdout",
     "output_type": "stream",
     "text": [
      "[ 1.          1.01163638  1.00361847  0.99064132]\n"
     ]
    }
   ],
   "source": [
    "amp = (forces[:,0] + forces[:,1])/(forces[0,0] + forces[0,1]) ## amp/2 (F_R' + F_z') =1/2* (F_R + F_z)\n",
    "print amp"
   ]
  },
  {
   "cell_type": "code",
   "execution_count": 18,
   "metadata": {
    "collapsed": false
   },
   "outputs": [
    {
     "name": "stdout",
     "output_type": "stream",
     "text": [
      "[ 1.          0.99997924  1.00000919  0.99991727]\n"
     ]
    }
   ],
   "source": [
    "## amp/4 (F_R'^2 + F_z'^2)^.5 =1/4* (F_R^2 + F_z^2)^.5\n",
    "amp = (forces[:,0]**2 + forces[:,1]**2)**-.5 * (forces[0,0]**2 + forces[0,1]**2)**.5\n",
    "print amp"
   ]
  },
  {
   "cell_type": "code",
   "execution_count": null,
   "metadata": {
    "collapsed": true
   },
   "outputs": [],
   "source": []
  }
 ],
 "metadata": {
  "kernelspec": {
   "display_name": "Python 2",
   "language": "python",
   "name": "python2"
  },
  "language_info": {
   "codemirror_mode": {
    "name": "ipython",
    "version": 2
   },
   "file_extension": ".py",
   "mimetype": "text/x-python",
   "name": "python",
   "nbconvert_exporter": "python",
   "pygments_lexer": "ipython2",
   "version": "2.7.11"
  }
 },
 "nbformat": 4,
 "nbformat_minor": 0
}
